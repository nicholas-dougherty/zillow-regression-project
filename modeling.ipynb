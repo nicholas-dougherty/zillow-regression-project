{
 "cells": [
  {
   "cell_type": "code",
   "execution_count": 1,
   "id": "00441904-2553-413a-9ea5-0cbcc1c5dc27",
   "metadata": {},
   "outputs": [],
   "source": [
    "import pandas as pd\n",
    "import numpy as np\n",
    "import env\n",
    "import matplotlib.pyplot as plt\n",
    "import seaborn as sns\n",
    "import scipy.stats as stats\n",
    "\n",
    "# custom module imports\n",
    "from acquire import acquire_zillow_data\n",
    "from prepare import remove_outliers, prepare_zillow\n",
    "from wrangle import wrangle_zillow, scale_data\n",
    "from explore import *\n",
    "from model import * \n",
    "\n",
    "# feature selection imports\n",
    "from sklearn.feature_selection import SelectKBest, f_regression\n",
    "from sklearn.feature_selection import RFE\n",
    "from sklearn.model_selection import train_test_split\n",
    "\n",
    "# import scaling methods\n",
    "from sklearn.preprocessing import MinMaxScaler, RobustScaler, StandardScaler, QuantileTransformer\n",
    "# import modeling methods\n",
    "from sklearn.metrics import mean_squared_error\n",
    "from sklearn.linear_model import LinearRegression, LassoLars, TweedieRegressor\n",
    "from sklearn.preprocessing import PolynomialFeatures\n",
    "from sklearn.metrics import explained_variance_score\n",
    "\n",
    "from mitosheet import *\n",
    "import plotly.express as px\n",
    "# import to remove warnings\n",
    "import warnings\n",
    "warnings.filterwarnings(\"ignore\")"
   ]
  },
  {
   "cell_type": "code",
   "execution_count": 2,
   "id": "afe9e8ae-ce19-43f2-a678-ec41abfa6663",
   "metadata": {},
   "outputs": [],
   "source": [
    "def wrangle_zillow2(target):\n",
    "    ''' \n",
    "    '''\n",
    "    train, validate, test = prepare_zillow(acquire_zillow_data())\n",
    "    \n",
    "    # split train into X (dataframe, drop target) & y (series, keep target only)\n",
    "    X_train = train.drop(columns=[target])\n",
    "    y_train = train[target]\n",
    "    \n",
    "    # split validate into X (dataframe, drop target) & y (series, keep target only)\n",
    "    X_validate = validate.drop(columns=[target])\n",
    "    y_validate = validate[target]\n",
    "    \n",
    "    # split test into X (dataframe, drop target) & y (series, keep target only)\n",
    "    X_test = test.drop(columns=[target])\n",
    "    y_test = test[target]\n",
    "    \n",
    "    # Change series into data frame for y \n",
    "    y_train = pd.DataFrame(y_train)\n",
    "    y_validate = pd.DataFrame(y_validate)\n",
    "    y_test = pd.DataFrame(y_test)\n",
    "    \n",
    "    return train, validate, test, X_train, y_train, X_validate, y_validate, X_test, y_test"
   ]
  },
  {
   "cell_type": "code",
   "execution_count": 3,
   "id": "55b1a1e3-7c5a-4519-8adb-03c60f3d1b35",
   "metadata": {},
   "outputs": [
    {
     "name": "stdout",
     "output_type": "stream",
     "text": [
      "Using cached CSV\n",
      "Undergoing preparatory stage: \n",
      "\n",
      "199 null values removed. \n",
      " 52,319 rows remain.\n",
      " \n",
      "Yearbuilt converted to age. \n",
      "\n",
      " Federal Information Processing Standard Publication (FIPS) \n",
      " reveals this Zillow data deals with three counties: \n",
      " Los Angeles (06037), Orange (06059), and Ventura (06111). \n",
      " Hence, data pertains only to Southern California. \n",
      "\n",
      "Outliers removed individually on a county-by-county basis. \n",
      " County data recombined accordingly. \n",
      " DF row-based percentage loss after outlier eradication: 19.13%. \n",
      "\n",
      "(23524, 7) (10082, 7) (8402, 7)\n"
     ]
    }
   ],
   "source": [
    "train, validate, test, X_train, y_train, X_validate, y_validate, X_test, y_test = wrangle_zillow2('tax_value')"
   ]
  },
  {
   "cell_type": "code",
   "execution_count": 4,
   "id": "994f435c-e41d-46cd-b386-1d4063bcfda7",
   "metadata": {},
   "outputs": [],
   "source": [
    "X_train_scaled, X_validate_scaled, X_test_scaled = scale_data(X_train, X_validate, X_test)"
   ]
  },
  {
   "cell_type": "code",
   "execution_count": 5,
   "id": "5f423587-6120-4560-8e54-277a1253d730",
   "metadata": {},
   "outputs": [],
   "source": [
    "def scaling_impact(X_train, X_train_scaled):\n",
    "    plt.figure(figsize=(13, 6))\n",
    "    plt.subplot(121)\n",
    "    plt.hist(X_train, bins=25, ec='black')\n",
    "    plt.title('Original')\n",
    "    plt.subplot(122)\n",
    "    plt.hist(X_train_scaled, bins=25, ec='black')\n",
    "    plt.title('Scaled')"
   ]
  },
  {
   "cell_type": "code",
   "execution_count": 6,
   "id": "1d90adcf-12a3-4315-b30f-e92bbfc2ac7d",
   "metadata": {},
   "outputs": [
    {
     "data": {
      "image/png": "[encoded data removed]",
      "text/plain": [
       "<Figure size 936x432 with 2 Axes>"
      ]
     },
     "metadata": {
      "needs_background": "light"
     },
     "output_type": "display_data"
    }
   ],
   "source": [
    "scaling_impact(X_train, X_train_scaled)"
   ]
  },
  {
   "cell_type": "code",
   "execution_count": 7,
   "id": "e5c88ae2-4f72-4bbc-a1ff-87a7b73e91ef",
   "metadata": {},
   "outputs": [],
   "source": [
    "def select_rfe(X_train_scaled, y_train, k, return_rankings=False, model=LinearRegression()):\n",
    "    # Use the passed model, LinearRegression by default\n",
    "    rfe = RFE(model, n_features_to_select=k)\n",
    "     # fit the data using RFE\n",
    "    rfe.fit(X_train_scaled, y_train)\n",
    "    # get mask of columns selected as list\n",
    "    feature_mask = X_train_scaled.columns[rfe.support_].tolist()\n",
    "    if return_rankings:\n",
    "        rankings = pd.Series(dict(zip(X_train_scaled.columns, rfe.ranking_)))\n",
    "        return feature_mask, rankings\n",
    "    else:\n",
    "        return feature_mask"
   ]
  },
  {
   "cell_type": "code",
   "execution_count": 8,
   "id": "748f4706-3b1f-49d4-a758-951c21132783",
   "metadata": {},
   "outputs": [],
   "source": [
    "features_to_use, feature_rankings = select_rfe(X_train_scaled, y_train, 5, return_rankings=True)"
   ]
  },
  {
   "cell_type": "code",
   "execution_count": 9,
   "id": "cdd46fa0-63ea-4afc-a099-42e31b7495a2",
   "metadata": {},
   "outputs": [
    {
     "name": "stdout",
     "output_type": "stream",
     "text": [
      " \n",
      " Use the following features: \n",
      "\n",
      "beds           1\n",
      "baths          1\n",
      "area           1\n",
      "age            1\n",
      "los_angeles    1\n",
      "orange         2\n",
      "dtype: int64\n"
     ]
    }
   ],
   "source": [
    "#print(feature_rankings.sort_values())\n",
    "print(' \\n Use the following features: \\n')\n",
    "print(feature_rankings)\n",
    "features = ['beds', 'baths', 'area', 'age', 'los_angeles']"
   ]
  },
  {
   "cell_type": "code",
   "execution_count": 10,
   "id": "c1e29435-8a6b-4bcb-b0c7-03457391b812",
   "metadata": {},
   "outputs": [
    {
     "name": "stdout",
     "output_type": "stream",
     "text": [
      "RMSE using Mean\n",
      "Train/In-Sample:  244358.79 \n",
      "Validate/Out-of-Sample:  247383.7\n",
      "-----------\n",
      "RMSE using Median\n",
      "Train/In-Sample:  246614.86 \n",
      "Validate/Out-of-Sample:  249653.86\n"
     ]
    }
   ],
   "source": [
    "# 1. Predict mean tax value \n",
    "tv_pred_mean = y_train.tax_value.mean()\n",
    "y_train['tv_pred_mean'] = tv_pred_mean\n",
    "y_validate['tv_pred_mean'] = tv_pred_mean\n",
    "\n",
    "# 2. Predict median tax value \n",
    "tv_pred_median = y_train.tax_value.median()\n",
    "y_train['tv_pred_median'] = tv_pred_median\n",
    "y_validate['tv_pred_median'] = tv_pred_median\n",
    "\n",
    "# 3. RMSE of tv_pred_mean\n",
    "rmse_train = mean_squared_error(y_train.tax_value, y_train.tv_pred_mean) ** 0.5\n",
    "rmse_validate = mean_squared_error(y_validate.tax_value, y_validate.tv_pred_mean) ** 0.5\n",
    "\n",
    "print(\"RMSE using Mean\\nTrain/In-Sample: \", round(rmse_train, 2), \n",
    "      \"\\nValidate/Out-of-Sample: \", round(rmse_validate, 2))\n",
    "\n",
    "# 4. RMSE of tv_pred_median\n",
    "rmse_train1 = mean_squared_error(y_train.tax_value, y_train.tv_pred_median) ** .5\n",
    "rmse_validate1 = mean_squared_error(y_validate.tax_value, y_validate.tv_pred_median) ** .5\n",
    "print('-----------')\n",
    "print(\"RMSE using Median\\nTrain/In-Sample: \", round(rmse_train1, 2), \n",
    "      \"\\nValidate/Out-of-Sample: \", round(rmse_validate1, 2))"
   ]
  },
  {
   "cell_type": "code",
   "execution_count": 11,
   "id": "dc6d7880-eac1-4937-aa56-5e6703290c6f",
   "metadata": {},
   "outputs": [],
   "source": [
    "# add the mean baseline to a df to help evaluate all models side by side\n",
    "metric_df = pd.DataFrame(data=[{\n",
    "    'model': 'mean_baseline',\n",
    "    'rmse_outofsample': rmse_validate,\n",
    "    'r^2_outofsample': explained_variance_score(y_validate.tax_value, y_validate.tv_pred_mean)}])"
   ]
  },
  {
   "cell_type": "code",
   "execution_count": 12,
   "id": "45f977e0-316b-4642-8940-d135ed8296b2",
   "metadata": {},
   "outputs": [
    {
     "data": {
      "text/html": [
       "<div><div id=fa529744-94ba-4b47-bafb-dd5107d6d3fa style=\"display:none; background-color:#9D6CFF; color:white; width:200px; height:30px; padding-left:5px; border-radius:4px; flex-direction:row; justify-content:space-around; align-items:center;\" onmouseover=\"this.style.backgroundColor='#BA9BF8'\" onmouseout=\"this.style.backgroundColor='#9D6CFF'\" onclick=\"window.commands?.execute('create-mitosheet-from-dataframe-output');\">See Full Dataframe in Mito</div> <script> if (window.commands.hasCommand('create-mitosheet-from-dataframe-output')) document.getElementById('fa529744-94ba-4b47-bafb-dd5107d6d3fa').style.display = 'flex' </script> <table border=\"1\" class=\"dataframe\">\n",
       "  <thead>\n",
       "    <tr style=\"text-align: right;\">\n",
       "      <th></th>\n",
       "      <th>model</th>\n",
       "      <th>rmse_outofsample</th>\n",
       "      <th>r^2_outofsample</th>\n",
       "    </tr>\n",
       "  </thead>\n",
       "  <tbody>\n",
       "    <tr>\n",
       "      <th>0</th>\n",
       "      <td>mean_baseline</td>\n",
       "      <td>247383.703403</td>\n",
       "      <td>0.0</td>\n",
       "    </tr>\n",
       "  </tbody>\n",
       "</table></div>"
      ],
      "text/plain": [
       "           model  rmse_outofsample  r^2_outofsample\n",
       "0  mean_baseline     247383.703403              0.0"
      ]
     },
     "execution_count": 12,
     "metadata": {},
     "output_type": "execute_result"
    }
   ],
   "source": [
    "metric_df"
   ]
  },
  {
   "cell_type": "code",
   "execution_count": 13,
   "id": "fa26afba-de83-4414-b118-40efe62c73ce",
   "metadata": {},
   "outputs": [
    {
     "name": "stdout",
     "output_type": "stream",
     "text": [
      "RMSE for OLS using LinearRegression\n",
      "Training/In-Sample:  211815.74555149165 \n",
      "Validation/Out-of-Sample:  213948.6103911231\n"
     ]
    }
   ],
   "source": [
    "# create the model object\n",
    "# \n",
    "# make the thing\n",
    "# \n",
    "lm = LinearRegression()\n",
    "\n",
    "# fit the model to our training data. We must specify the column in y_train, \n",
    "# since we have converted it to a dataframe from a series! \n",
    "# \n",
    "# fit the thing\n",
    "# use only the features we selected\n",
    "lm.fit(X_train_scaled[features], y_train.tax_value)\n",
    "\n",
    "# predict train\n",
    "# \n",
    "# use the thing!\n",
    "# \n",
    "y_train['tv_pred_lm'] = lm.predict(X_train_scaled[features])\n",
    "\n",
    "# evaluate: rmse\n",
    "rmse_train = mean_squared_error(y_train.tax_value, y_train.tv_pred_lm) ** (1/2)\n",
    "\n",
    "# predict validate\n",
    "y_validate['tv_pred_lm'] = lm.predict(X_validate_scaled[features])\n",
    "\n",
    "# evaluate: rmse\n",
    "rmse_validate = mean_squared_error(y_validate.tax_value, y_validate.tv_pred_lm) ** (1/2)\n",
    "\n",
    "print(\"RMSE for OLS using LinearRegression\\nTraining/In-Sample: \", rmse_train, \n",
    "      \"\\nValidation/Out-of-Sample: \", rmse_validate)"
   ]
  },
  {
   "cell_type": "code",
   "execution_count": 14,
   "id": "ab297de7-b92d-48a1-82d1-426717b5a2a1",
   "metadata": {},
   "outputs": [],
   "source": [
    "# add model's performance to metric df\n",
    "metric_df = metric_df.append(\n",
    "    {\n",
    "    'model': 'OLS lm',\n",
    "    'rmse_outofsample': rmse_validate,\n",
    "        'r^2_outofsample': explained_variance_score(y_validate.tax_value, y_validate.tv_pred_lm)}, ignore_index=True)"
   ]
  },
  {
   "cell_type": "code",
   "execution_count": 15,
   "id": "0bf5a51e-dac6-4477-87b4-775524f1497c",
   "metadata": {},
   "outputs": [
    {
     "name": "stdout",
     "output_type": "stream",
     "text": [
      "RMSE for GLM using Tweedie, power=1 & alpha=0\n",
      "Training/In-Sample:  237778.34731167604 \n",
      "Validation/Out-of-Sample:  240893.92232643464\n"
     ]
    }
   ],
   "source": [
    "#Tweedie Regressor GLM\n",
    "# create the model object\n",
    "glm = TweedieRegressor(power=0, alpha=1)\n",
    "\n",
    "# fit the model to our training data using only selected features. We must specify the column in y_train, \n",
    "# since we have converted it to a dataframe from a series\n",
    "\n",
    "glm.fit(X_train_scaled[features], y_train.tax_value)\n",
    "\n",
    "# predict train\n",
    "y_train['tv_pred_glm'] = glm.predict(X_train_scaled[features])\n",
    "\n",
    "# evaluate: rmse\n",
    "rmse_train = mean_squared_error(y_train.tax_value, y_train.tv_pred_glm) ** (1/2)\n",
    "\n",
    "\n",
    "# predict validate\n",
    "y_validate['tv_pred_glm'] = glm.predict(X_validate_scaled[features])\n",
    "\n",
    "# evaluate: rmse\n",
    "rmse_validate = mean_squared_error(y_validate.tax_value, y_validate.tv_pred_glm) ** (1/2)\n",
    "\n",
    "\n",
    "print(\"RMSE for GLM using Tweedie, power=1 & alpha=0\\nTraining/In-Sample: \", rmse_train, \n",
    "      \"\\nValidation/Out-of-Sample: \", rmse_validate)"
   ]
  },
  {
   "cell_type": "code",
   "execution_count": 16,
   "id": "ec8390c6-af64-4265-9a19-295e3c174869",
   "metadata": {},
   "outputs": [],
   "source": [
    "# add model to metric df\n",
    "metric_df = metric_df.append(\n",
    "    {\n",
    "    'model': 'Tweedie GLM power 1',\n",
    "    'rmse_outofsample': rmse_validate,\n",
    "    'r^2_outofsample': explained_variance_score(y_validate.tax_value, y_validate.tv_pred_glm)}, ignore_index=True)"
   ]
  },
  {
   "cell_type": "code",
   "execution_count": 17,
   "id": "9d0f8197-7fac-4fcd-806d-d1e8bc6edbaf",
   "metadata": {},
   "outputs": [
    {
     "name": "stdout",
     "output_type": "stream",
     "text": [
      "RMSE for Lasso + Lars\n",
      "Training/In-Sample:  211816.0944804274 \n",
      "Validation/Out-of-Sample:  213952.88164697244\n"
     ]
    }
   ],
   "source": [
    "# create the model object\n",
    "lars = LassoLars(alpha=1)\n",
    "\n",
    "# fit the model to our training data using only selected features. We must specify the column in y_train, \n",
    "# since we have converted it to a dataframe from a series\n",
    "lars.fit(X_train_scaled[features], y_train.tax_value)\n",
    "\n",
    "# predict train\n",
    "y_train['tv_pred_lars'] = lars.predict(X_train_scaled[features])\n",
    "\n",
    "# evaluate: rmse\n",
    "rmse_train = mean_squared_error(y_train.tax_value, y_train.tv_pred_lars) ** (1/2)\n",
    "\n",
    "# predict validate\n",
    "y_validate['tv_pred_lars'] = lars.predict(X_validate_scaled[features])\n",
    "\n",
    "# evaluate: rmse\n",
    "rmse_validate = mean_squared_error(y_validate.tax_value, y_validate.tv_pred_lars) ** (1/2)\n",
    "\n",
    "print(\"RMSE for Lasso + Lars\\nTraining/In-Sample: \", rmse_train, \n",
    "      \"\\nValidation/Out-of-Sample: \", rmse_validate)"
   ]
  },
  {
   "cell_type": "code",
   "execution_count": 18,
   "id": "4786306a-6b32-44d0-9c7b-ff5dcf786c1e",
   "metadata": {},
   "outputs": [],
   "source": [
    "# add model to metric df\n",
    "metric_df = metric_df.append(\n",
    "    {\n",
    "    'model': 'LassoLars alpha 1',\n",
    "    'rmse_outofsample': rmse_validate,\n",
    "    'r^2_outofsample': explained_variance_score(y_validate.tax_value, y_validate.tv_pred_lars)}, ignore_index=True)"
   ]
  },
  {
   "cell_type": "code",
   "execution_count": 19,
   "id": "ffaba1c5-bde9-4ff0-bde5-544977a189ba",
   "metadata": {},
   "outputs": [
    {
     "data": {
      "text/html": [
       "<div><div id=c5669539-ff08-4057-8eb3-d1a60b9bbe21 style=\"display:none; background-color:#9D6CFF; color:white; width:200px; height:30px; padding-left:5px; border-radius:4px; flex-direction:row; justify-content:space-around; align-items:center;\" onmouseover=\"this.style.backgroundColor='#BA9BF8'\" onmouseout=\"this.style.backgroundColor='#9D6CFF'\" onclick=\"window.commands?.execute('create-mitosheet-from-dataframe-output');\">See Full Dataframe in Mito</div> <script> if (window.commands.hasCommand('create-mitosheet-from-dataframe-output')) document.getElementById('c5669539-ff08-4057-8eb3-d1a60b9bbe21').style.display = 'flex' </script> <table border=\"1\" class=\"dataframe\">\n",
       "  <thead>\n",
       "    <tr style=\"text-align: right;\">\n",
       "      <th></th>\n",
       "      <th>model</th>\n",
       "      <th>rmse_outofsample</th>\n",
       "      <th>r^2_outofsample</th>\n",
       "    </tr>\n",
       "  </thead>\n",
       "  <tbody>\n",
       "    <tr>\n",
       "      <th>0</th>\n",
       "      <td>mean_baseline</td>\n",
       "      <td>247383.703403</td>\n",
       "      <td>0.000000</td>\n",
       "    </tr>\n",
       "    <tr>\n",
       "      <th>1</th>\n",
       "      <td>OLS lm</td>\n",
       "      <td>213948.610391</td>\n",
       "      <td>0.252141</td>\n",
       "    </tr>\n",
       "    <tr>\n",
       "      <th>2</th>\n",
       "      <td>Tweedie GLM power 1</td>\n",
       "      <td>240893.922326</td>\n",
       "      <td>0.051778</td>\n",
       "    </tr>\n",
       "    <tr>\n",
       "      <th>3</th>\n",
       "      <td>LassoLars alpha 1</td>\n",
       "      <td>213952.881647</td>\n",
       "      <td>0.252111</td>\n",
       "    </tr>\n",
       "  </tbody>\n",
       "</table></div>"
      ],
      "text/plain": [
       "                 model  rmse_outofsample  r^2_outofsample\n",
       "0        mean_baseline     247383.703403         0.000000\n",
       "1               OLS lm     213948.610391         0.252141\n",
       "2  Tweedie GLM power 1     240893.922326         0.051778\n",
       "3    LassoLars alpha 1     213952.881647         0.252111"
      ]
     },
     "execution_count": 19,
     "metadata": {},
     "output_type": "execute_result"
    }
   ],
   "source": [
    "metric_df"
   ]
  },
  {
   "cell_type": "code",
   "execution_count": 20,
   "id": "e5e904c2-ac14-4f99-bb90-eb62bbeef2ce",
   "metadata": {},
   "outputs": [
    {
     "name": "stdout",
     "output_type": "stream",
     "text": [
      "RMSE for PolynomialRegression\n",
      "Training/In-Sample:  206432.94619925288 \n",
      "Validation/Out-of-Sample:  208890.0469949978\n"
     ]
    }
   ],
   "source": [
    "# make the polynomial features to get a new set of features\n",
    "pf = PolynomialFeatures(degree=2)\n",
    "\n",
    "# fit and transform X_train_scaled features\n",
    "X_train_degree2 = pf.fit_transform(X_train_scaled[features])\n",
    "\n",
    "# transform X_validate_scaled & X_test_scaled\n",
    "X_validate_degree2 = pf.transform(X_validate_scaled[features])\n",
    "X_test_degree2 = pf.transform(X_test_scaled[features])\n",
    "\n",
    "pm = LinearRegression(normalize=True)\n",
    "\n",
    "pm.fit(X_train_degree2, y_train.tax_value)\n",
    "\n",
    "y_train['tv_pred_pm'] = pm.predict(X_train_degree2)\n",
    "\n",
    "# evaluate: rmse\n",
    "rmse_train = mean_squared_error(y_train.tax_value, y_train.tv_pred_pm) ** (1/2)\n",
    "\n",
    "# predict validate\n",
    "y_validate['tv_pred_pm'] = pm.predict(X_validate_degree2)\n",
    "\n",
    "# evaluate: rmse\n",
    "rmse_validate = mean_squared_error(y_validate.tax_value, y_validate.tv_pred_pm) ** (1/2)\n",
    "\n",
    "print(\"RMSE for PolynomialRegression\\nTraining/In-Sample: \", rmse_train, \n",
    "      \"\\nValidation/Out-of-Sample: \", rmse_validate)\n"
   ]
  },
  {
   "cell_type": "code",
   "execution_count": 21,
   "id": "9a6f7133-def5-4365-8ba3-fcc6c77fbb45",
   "metadata": {},
   "outputs": [
    {
     "data": {
      "text/html": [
       "<div><div id=42c850f0-b1b7-4245-ab31-4baca064e427 style=\"display:none; background-color:#9D6CFF; color:white; width:200px; height:30px; padding-left:5px; border-radius:4px; flex-direction:row; justify-content:space-around; align-items:center;\" onmouseover=\"this.style.backgroundColor='#BA9BF8'\" onmouseout=\"this.style.backgroundColor='#9D6CFF'\" onclick=\"window.commands?.execute('create-mitosheet-from-dataframe-output');\">See Full Dataframe in Mito</div> <script> if (window.commands.hasCommand('create-mitosheet-from-dataframe-output')) document.getElementById('42c850f0-b1b7-4245-ab31-4baca064e427').style.display = 'flex' </script> <table border=\"1\" class=\"dataframe\">\n",
       "  <thead>\n",
       "    <tr style=\"text-align: right;\">\n",
       "      <th></th>\n",
       "      <th>model</th>\n",
       "      <th>rmse_outofsample</th>\n",
       "      <th>r^2_outofsample</th>\n",
       "    </tr>\n",
       "  </thead>\n",
       "  <tbody>\n",
       "    <tr>\n",
       "      <th>0</th>\n",
       "      <td>mean_baseline</td>\n",
       "      <td>247383.703403</td>\n",
       "      <td>0.000000</td>\n",
       "    </tr>\n",
       "    <tr>\n",
       "      <th>1</th>\n",
       "      <td>OLS lm</td>\n",
       "      <td>213948.610391</td>\n",
       "      <td>0.252141</td>\n",
       "    </tr>\n",
       "    <tr>\n",
       "      <th>2</th>\n",
       "      <td>Tweedie GLM power 1</td>\n",
       "      <td>240893.922326</td>\n",
       "      <td>0.051778</td>\n",
       "    </tr>\n",
       "    <tr>\n",
       "      <th>3</th>\n",
       "      <td>LassoLars alpha 1</td>\n",
       "      <td>213952.881647</td>\n",
       "      <td>0.252111</td>\n",
       "    </tr>\n",
       "    <tr>\n",
       "      <th>4</th>\n",
       "      <td>PolyReg Model</td>\n",
       "      <td>208890.046995</td>\n",
       "      <td>0.287012</td>\n",
       "    </tr>\n",
       "  </tbody>\n",
       "</table></div>"
      ],
      "text/plain": [
       "                 model  rmse_outofsample  r^2_outofsample\n",
       "0        mean_baseline     247383.703403         0.000000\n",
       "1               OLS lm     213948.610391         0.252141\n",
       "2  Tweedie GLM power 1     240893.922326         0.051778\n",
       "3    LassoLars alpha 1     213952.881647         0.252111\n",
       "4        PolyReg Model     208890.046995         0.287012"
      ]
     },
     "execution_count": 21,
     "metadata": {},
     "output_type": "execute_result"
    }
   ],
   "source": [
    "metric_df = metric_df.append(\n",
    "    {\n",
    "    'model': 'PolyReg Model',\n",
    "    'rmse_outofsample': rmse_validate,\n",
    "    'r^2_outofsample': explained_variance_score(y_validate.tax_value, y_validate.tv_pred_pm)}, ignore_index=True)\n",
    "metric_df"
   ]
  },
  {
   "cell_type": "code",
   "execution_count": 22,
   "id": "2f9d9829-24dc-4387-9c0d-5a37f452454f",
   "metadata": {},
   "outputs": [
    {
     "name": "stdout",
     "output_type": "stream",
     "text": [
      "RMSE for Model using PolynomialRegression\n",
      "Out-of-Sample Performance:  207607.05439575057\n"
     ]
    }
   ],
   "source": [
    "# Fit best performing model on TestSplit\n",
    "# predict on test\n",
    "y_test['tv_pred_pm'] = pm.predict(X_test_degree2)\n",
    "\n",
    "# evaluate: rmse\n",
    "rmse_test = mean_squared_error(y_test.tax_value, y_test.tv_pred_pm) ** (1/2)\n",
    "print(\"RMSE for Model using PolynomialRegression\\nOut-of-Sample Performance: \", rmse_test)"
   ]
  },
  {
   "cell_type": "code",
   "execution_count": 23,
   "id": "48bb125d-0295-4d4f-b3c1-89476a5c1b43",
   "metadata": {},
   "outputs": [],
   "source": [
    "metric_df = metric_df.append(\n",
    "    {\n",
    "    'model': 'Test',\n",
    "    'rmse_outofsample': rmse_test,\n",
    "    'r^2_outofsample': explained_variance_score(y_test.tax_value, y_test.tv_pred_pm)}, ignore_index=True)"
   ]
  }
 ],
 "metadata": {
  "kernelspec": {
   "display_name": "Python 3 (ipykernel)",
   "language": "python",
   "name": "python3"
  },
  "language_info": {
   "codemirror_mode": {
    "name": "ipython",
    "version": 3
   },
   "file_extension": ".py",
   "mimetype": "text/x-python",
   "name": "python",
   "nbconvert_exporter": "python",
   "pygments_lexer": "ipython3",
   "version": "3.9.7"
  }
 },
 "nbformat": 4,
 "nbformat_minor": 5
}
