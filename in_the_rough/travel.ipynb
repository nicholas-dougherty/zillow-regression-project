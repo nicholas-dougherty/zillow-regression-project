{
 "cells": [
  {
   "cell_type": "code",
   "execution_count": null,
   "id": "80d2069a-c689-4b35-8a44-dc345c86d4d4",
   "metadata": {},
   "outputs": [],
   "source": [
    "from env import host, username, password, get_db_url\n",
    "import os\n",
    "import pandas as pd \n",
    "import numpy as np\n",
    "from sklearn.model_selection import train_test_split\n",
    "import matplotlib.pyplot as plt\n",
    "import seaborn as sns\n",
    "\n",
    "%matplotlib inline\n",
    "from pandas_profiling import ProfileReport\n",
    "import mitosheet\n",
    "import lux\n",
    "\n",
    "from scipy import stats\n",
    "\n",
    "from sklearn.feature_selection import SelectKBest, f_regression, RFE\n",
    "from sklearn.model_selection import train_test_split\n",
    "from sklearn.preprocessing import MinMaxScaler\n",
    "from sklearn.linear_model import LinearRegression, LassoLars, TweedieRegressor\n",
    "from sklearn.preprocessing import PolynomialFeatures\n",
    "from sklearn.metrics import mean_squared_error, r2_score\n",
    "\n",
    "from clean import acquire_zillow_data, prepare_zillow, wrangled_zillow, scale_data, describe_data"
   ]
  },
  {
   "cell_type": "code",
   "execution_count": null,
   "id": "280757e7-61de-4d22-a606-562c5d605d39",
   "metadata": {},
   "outputs": [],
   "source": [
    "df = acquire_zillow_data()"
   ]
  },
  {
   "cell_type": "code",
   "execution_count": null,
   "id": "4be6c4d1-5e18-4b92-8b12-f5750ff6a379",
   "metadata": {},
   "outputs": [],
   "source": [
    "train, validate, test = prepare_zillow(df)"
   ]
  },
  {
   "cell_type": "code",
   "execution_count": null,
   "id": "1f80aa6c-89e7-4fc8-a213-0398e71d7f63",
   "metadata": {},
   "outputs": [],
   "source": [
    "train, validate, test = scale_data(train, validate, test)"
   ]
  },
  {
   "cell_type": "code",
   "execution_count": null,
   "id": "e39fff87-6465-44fe-975f-112feee968bf",
   "metadata": {},
   "outputs": [],
   "source": [
    "describe_data(train)"
   ]
  },
  {
   "cell_type": "code",
   "execution_count": null,
   "id": "a85a749c-0a54-4196-9ac5-f520f6b49760",
   "metadata": {},
   "outputs": [],
   "source": [
    "def plot_variable_pairs(train, cols, hue=None):\n",
    "    '''\n",
    "    This function takes in a df, a list of cols to plot, and default hue=None \n",
    "    and displays a pairplot with a red regression line.\n",
    "    '''\n",
    "    plot_kws={'line_kws':{'color':'red'}, 'scatter_kws': {'alpha': 0.7}}\n",
    "    sns.pairplot(train[cols], hue=hue, kind=\"reg\",plot_kws={'line_kws':{'color':'red'}, 'scatter_kws': {'alpha': 0.1}})\n",
    "    plt.show()"
   ]
  },
  {
   "cell_type": "code",
   "execution_count": null,
   "id": "8aaa38ec-264f-4064-8fb7-9bcf0a58101e",
   "metadata": {},
   "outputs": [],
   "source": [
    "#train['county_name'] = train.county_name.apply(lambda fips: '0' + str(int(fips)))"
   ]
  },
  {
   "cell_type": "code",
   "execution_count": null,
   "id": "1ef0a096-dc85-46c0-8d0a-a4d0b7fe3294",
   "metadata": {},
   "outputs": [],
   "source": [
    "describe_data(train)"
   ]
  },
  {
   "cell_type": "code",
   "execution_count": null,
   "id": "7b691afc-1115-4a08-bd92-2d7262df0b37",
   "metadata": {},
   "outputs": [],
   "source": [
    "#train['county_name'].replace({'06037': 'los_angeles', '06059': 'orange', '06111': 'ventura'}, inplace=True)"
   ]
  },
  {
   "cell_type": "code",
   "execution_count": null,
   "id": "162522ff-b039-4676-969a-8aafac78c108",
   "metadata": {},
   "outputs": [],
   "source": [
    "# populate the list of numeric attributes and categorical attributes\n",
    "\n",
    "num_list = []\n",
    "cat_list = []\n",
    "\n",
    "for column in train: \n",
    "    if pd.api.types.is_numeric_dtype(train[column]):\n",
    "        num_list.append(column)\n",
    "    elif pd.api.types.is_string_dtype(train[column]):\n",
    "        cat_list.append(column)\n",
    "        \n",
    "print(num_list)\n",
    "print(cat_list)"
   ]
  },
  {
   "cell_type": "code",
   "execution_count": null,
   "id": "68d34181-27f2-49d3-b31e-1efb908c8a59",
   "metadata": {},
   "outputs": [],
   "source": [
    "# now to bin age into quarter centuries."
   ]
  },
  {
   "cell_type": "code",
   "execution_count": null,
   "id": "db91d391-16ff-459f-a754-285ece55a8a1",
   "metadata": {},
   "outputs": [],
   "source": [
    "plot_variable_pairs(train, num_list)"
   ]
  },
  {
   "cell_type": "code",
   "execution_count": null,
   "id": "83c3ac43-ac3f-4004-b21c-42e7a86a848a",
   "metadata": {},
   "outputs": [],
   "source": [
    "sns.jointplot(y=\"tax_value\", x=\"baths\", data=train, kind='reg', line_kws={'color': 'red'})\n",
    "plt.show()"
   ]
  },
  {
   "cell_type": "code",
   "execution_count": null,
   "id": "af015de5-ee93-4511-a478-5a59c2b17bd0",
   "metadata": {},
   "outputs": [],
   "source": [
    "df.dtypes"
   ]
  },
  {
   "cell_type": "code",
   "execution_count": null,
   "id": "1958d592-3e55-4e56-8804-7c0259307e39",
   "metadata": {},
   "outputs": [],
   "source": [
    "train['tax_value'].value_counts()"
   ]
  },
  {
   "cell_type": "code",
   "execution_count": null,
   "id": "68681279-9d83-4245-a96e-5a9bf9100b4e",
   "metadata": {},
   "outputs": [],
   "source": [
    "train"
   ]
  },
  {
   "cell_type": "code",
   "execution_count": null,
   "id": "5a5f0fa3-c7f6-4f0d-b113-6a6e08d3e0f6",
   "metadata": {},
   "outputs": [],
   "source": [
    "profile = ProfileReport(train)"
   ]
  },
  {
   "cell_type": "code",
   "execution_count": null,
   "id": "16f2c5af-1e9e-4ac9-9a2d-8d1df6791130",
   "metadata": {},
   "outputs": [],
   "source": [
    "profile"
   ]
  },
  {
   "cell_type": "code",
   "execution_count": null,
   "id": "7bceb754-fb63-4a77-8d9e-b1ae8a715483",
   "metadata": {},
   "outputs": [],
   "source": [
    "target = 'tax_value'\n"
   ]
  },
  {
   "cell_type": "code",
   "execution_count": null,
   "id": "ed9cacbf-fbd9-4b4a-9c77-197bb9da33b8",
   "metadata": {},
   "outputs": [],
   "source": [
    "train.ndim"
   ]
  },
  {
   "cell_type": "code",
   "execution_count": null,
   "id": "e251a3c5-9adb-465f-8c82-15b7350abdd1",
   "metadata": {},
   "outputs": [],
   "source": [
    "train.size"
   ]
  },
  {
   "cell_type": "code",
   "execution_count": null,
   "id": "9b212afb-ce2e-4904-8441-729f8c863ac0",
   "metadata": {},
   "outputs": [],
   "source": [
    "train.shape"
   ]
  },
  {
   "cell_type": "code",
   "execution_count": null,
   "id": "92462485-a3d2-4032-a155-dc5f81e801e2",
   "metadata": {},
   "outputs": [],
   "source": [
    "train.infer_objects()\n",
    "# Lux detects that the attribute 'yearbuilt' may be temporal.\n",
    "#To display visualizations for these attributes accurately, please convert temporal attributes to Datetime objects.\n",
    "#For example, you can convert a Year attribute (e.g., 1998, 1971, 1982) using pd.to_datetime by specifying the `format` as '%Y'.\n",
    "         # Might this be a better approach than creating an age column? Time will tell. Hehe, get it?\n"
   ]
  },
  {
   "cell_type": "code",
   "execution_count": null,
   "id": "43724471-bca3-4f57-942c-50f6e76ade08",
   "metadata": {},
   "outputs": [],
   "source": [
    "df['yearbuilt'] = pd.to_datetime(df['yearbuilt'], format='<replace-with-datetime-format>')"
   ]
  },
  {
   "cell_type": "code",
   "execution_count": null,
   "id": "9e059630-c05c-46a2-a9e8-51d699ad1ad3",
   "metadata": {},
   "outputs": [],
   "source": [
    "train.duplicated"
   ]
  }
 ],
 "metadata": {
  "kernelspec": {
   "display_name": "Python 3 (ipykernel)",
   "language": "python",
   "name": "python3"
  },
  "language_info": {
   "codemirror_mode": {
    "name": "ipython",
    "version": 3
   },
   "file_extension": ".py",
   "mimetype": "text/x-python",
   "name": "python",
   "nbconvert_exporter": "python",
   "pygments_lexer": "ipython3",
   "version": "3.9.7"
  }
 },
 "nbformat": 4,
 "nbformat_minor": 5
}
