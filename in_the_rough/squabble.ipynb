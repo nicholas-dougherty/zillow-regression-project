{
 "cells": [
  {
   "cell_type": "code",
   "execution_count": null,
   "id": "b9a3195a",
   "metadata": {},
   "outputs": [],
   "source": [
    "sql = '''\n",
    "        SELECT bedroomcnt, \n",
    "                bathroomcnt, \n",
    "                calculatedfinishedsquarefeet, \n",
    "                taxvaluedollarcnt, \n",
    "                yearbuilt, \n",
    "                fips \n",
    "          FROM properties_2017\n",
    "            JOIN propertylandusetype USING (propertylandusetypeid)\n",
    "            JOIN predictions_2017 USING(parcelid)\n",
    "          WHERE propertylandusedesc IN (\"Single Family Residential\", \n",
    "                                        \"Inferred Single Family Residential\")\n",
    "            AND transactiondate LIKE \"2017%%\";\n",
    "        '''"
   ]
  },
  {
   "cell_type": "code",
   "execution_count": null,
   "id": "bc4b5d25",
   "metadata": {},
   "outputs": [],
   "source": []
  }
 ],
 "metadata": {
  "kernelspec": {
   "display_name": "Python 3 (ipykernel)",
   "language": "python",
   "name": "python3"
  },
  "language_info": {
   "codemirror_mode": {
    "name": "ipython",
    "version": 3
   },
   "file_extension": ".py",
   "mimetype": "text/x-python",
   "name": "python",
   "nbconvert_exporter": "python",
   "pygments_lexer": "ipython3",
   "version": "3.9.7"
  }
 },
 "nbformat": 4,
 "nbformat_minor": 5
}
