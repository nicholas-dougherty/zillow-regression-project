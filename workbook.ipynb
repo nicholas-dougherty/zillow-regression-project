{
 "cells": [
  {
   "cell_type": "code",
   "execution_count": null,
   "id": "14652bb4-595b-4ff0-9d0e-94bc0cf64bcd",
   "metadata": {},
   "outputs": [],
   "source": []
  },
  {
   "cell_type": "code",
   "execution_count": 45,
   "id": "517ce6b7-b4f1-4bc4-bbdd-055cc6d564bf",
   "metadata": {},
   "outputs": [
    {
     "name": "stderr",
     "output_type": "stream",
     "text": [
      "Pandas backend loaded 1.3.4\n",
      "Numpy backend loaded 1.20.3\n",
      "Pyspark backend loaded 3.2.1\n",
      "Python backend loaded\n"
     ]
    }
   ],
   "source": [
    "from env import host, username, password, get_db_url\n",
    "import os\n",
    "import pandas as pd \n",
    "import numpy as np\n",
    "from sklearn.model_selection import train_test_split\n",
    "import matplotlib.pyplot as plt\n",
    "from scipy import stats\n",
    "from sklearn.feature_selection import SelectKBest, f_regression, RFE\n",
    "from sklearn.model_selection import train_test_split\n",
    "from sklearn.preprocessing import MinMaxScaler\n",
    "from sklearn.linear_model import LinearRegression\n",
    "import seaborn as sns\n",
    "import matplotlib.pyplot as plt\n",
    "\n",
    "import lux\n",
    "from pandas_profiling import ProfileReport\n",
    "\n",
    "pd.set_option('display.float_format', lambda x: '%.3f' % x)"
   ]
  },
  {
   "cell_type": "code",
   "execution_count": 4,
   "id": "c5167823-71d3-41dc-9632-f705059dd0a9",
   "metadata": {},
   "outputs": [],
   "source": [
    "def acquire_zillow_data(use_cache=True):\n",
    "    if os.path.exists('zillow.csv') and use_cache:\n",
    "        print('Using cached CSV')\n",
    "        return pd.read_csv('zillow.csv')\n",
    "    print('Acquiring data from SQL database')\n",
    "    df = pd.read_sql('''\n",
    "                        SELECT bedroomcnt AS beds, \n",
    "                               bathroomcnt AS baths, \n",
    "                               calculatedfinishedsquarefeet AS area, \n",
    "                               taxvaluedollarcnt AS assessed_value, \n",
    "                               yearbuilt AS year_built, \n",
    "                               fips AS county         \n",
    "                        FROM properties_2017\n",
    "                            JOIN propertylandusetype USING (propertylandusetypeid)\n",
    "                            JOIN predictions_2017 USING(parcelid)\n",
    "                        WHERE propertylandusedesc IN ('Single Family Residential', \n",
    "                                                        'Inferred Single Family Residential')\n",
    "                            AND transactiondate LIKE '2017%%';\n",
    "                    \n",
    "                     '''\n",
    "                    , get_db_url('zillow'))\n",
    "    df.to_csv('zillow.csv', index=False)\n",
    "    \n",
    "    return df"
   ]
  },
  {
   "cell_type": "code",
   "execution_count": 5,
   "id": "be47c9be-8ddd-485c-9550-2706018ca5b0",
   "metadata": {},
   "outputs": [
    {
     "name": "stdout",
     "output_type": "stream",
     "text": [
      "Using cached CSV\n"
     ]
    }
   ],
   "source": [
    "df = acquire_zillow_data()"
   ]
  },
  {
   "cell_type": "code",
   "execution_count": 6,
   "id": "c83df811-e8db-4fdc-9c65-a39a9d57a580",
   "metadata": {},
   "outputs": [],
   "source": [
    "def describe_data(df):\n",
    "    '''\n",
    "    This function takes in a pandas dataframe and prints out the shape, datatypes, number of missing values, \n",
    "    columns and their data types, summary statistics of numeric columns in the dataframe, as well as the value counts for categorical variables.\n",
    "    '''\n",
    "    # Print out the \"shape\" of our dataframe - rows and columns\n",
    "    print(f'This dataframe has {df.shape[0]} rows and {df.shape[1]} columns.')\n",
    "    print('')\n",
    "    print('--------------------------------------')\n",
    "    print('--------------------------------------')\n",
    "    \n",
    "    # print the datatypes and column names with non-null counts\n",
    "    print(df.info())\n",
    "    print('')\n",
    "    print('--------------------------------------')\n",
    "    print('--------------------------------------')\n",
    "\n",
    "    # print the number of missing values per column and the total\n",
    "    print('Null Values: ')\n",
    "    missing_total = df.isnull().sum().sum()\n",
    "    missing_count = df.isnull().sum() # the count of missing values\n",
    "    value_count = df.isnull().count() # the count of all values\n",
    "    missing_percentage = round(missing_count / value_count * 100, 2) # percentage of missing values\n",
    "    missing_df = pd.DataFrame({'count': missing_count, 'percentage': missing_percentage}) # create df\n",
    "    print(missing_df)\n",
    "    print(f' \\n Total Number of Missing Values: {missing_total} \\n')\n",
    "    df_total = df[df.columns[:]].count().sum()\n",
    "    proportion_of_nulls = round((missing_total / df_total), 4)\n",
    "    print(f' Proportion of Nulls in Dataframe: {proportion_of_nulls}\\n') \n",
    "    print('--------------------------------------')\n",
    "    print('--------------------------------------')\n",
    "\n",
    "    # print out summary stats for our dataset\n",
    "    print('Here are the summary statistics of our dataset')\n",
    "    print(df.describe().applymap(lambda x: f\"{x:0.3f}\"))\n",
    "    print('')\n",
    "    print('--------------------------------------')\n",
    "    print('--------------------------------------')\n",
    "\n",
    "    print('Relative Frequencies: \\n')\n",
    "    # Display top 5 values of each variable within reasonable limit\n",
    "    limit = 25\n",
    "    for col in df.columns:\n",
    "        if df[col].nunique() < limit:\n",
    "            print(f'Column: {col} \\n {round(df[col].value_counts(normalize=True).nlargest(5), 3)} \\n')\n",
    "        else: \n",
    "            print(f'Column: {col} \\n')\n",
    "            print(f'Range of Values: [{df[col].min()} - {df[col].max()}] \\n')\n",
    "        print('------------------------------------------')\n",
    "        print('--------------------------------------')\n",
    "    "
   ]
  },
  {
   "cell_type": "code",
   "execution_count": 7,
   "id": "b8a0a977-9e11-4624-ae74-7d3c17258cf6",
   "metadata": {},
   "outputs": [
    {
     "name": "stdout",
     "output_type": "stream",
     "text": [
      "This dataframe has 52441 rows and 6 columns.\n",
      "\n",
      "--------------------------------------\n",
      "--------------------------------------\n",
      "<class 'lux.core.frame.LuxDataFrame'>\n",
      "RangeIndex: 52441 entries, 0 to 52440\n",
      "Data columns (total 6 columns):\n",
      " #   Column          Non-Null Count  Dtype  \n",
      "---  ------          --------------  -----  \n",
      " 0   beds            52441 non-null  float64\n",
      " 1   baths           52441 non-null  float64\n",
      " 2   area            52359 non-null  float64\n",
      " 3   assessed_value  52440 non-null  float64\n",
      " 4   year_built      52325 non-null  float64\n",
      " 5   county          52441 non-null  float64\n",
      "dtypes: float64(6)\n",
      "memory usage: 2.4 MB\n",
      "None\n",
      "\n",
      "--------------------------------------\n",
      "--------------------------------------\n",
      "Null Values: \n",
      "                count  percentage\n",
      "beds                0       0.000\n",
      "baths               0       0.000\n",
      "area               82       0.160\n",
      "assessed_value      1       0.000\n",
      "year_built        116       0.220\n",
      "county              0       0.000\n",
      " \n",
      " Total Number of Missing Values: 199 \n",
      "\n",
      " Proportion of Nulls in Dataframe: 0.0006\n",
      "\n",
      "--------------------------------------\n",
      "--------------------------------------\n",
      "Here are the summary statistics of our dataset\n",
      "            beds      baths       area assessed_value year_built     county\n",
      "count  52441.000  52441.000  52359.000      52440.000  52325.000  52441.000\n",
      "mean       3.301      2.299   1922.891     529688.164   1963.394   6049.132\n",
      "std        0.949      1.023   1004.366     751894.553     23.134     21.029\n",
      "min        0.000      0.000    128.000       1000.000   1878.000   6037.000\n",
      "25%        3.000      2.000   1268.000     193747.500   1950.000   6037.000\n",
      "50%        3.000      2.000   1659.000     373612.000   1961.000   6037.000\n",
      "75%        4.000      3.000   2306.000     619301.250   1979.000   6059.000\n",
      "max       14.000     18.000  21929.000   49061236.000   2016.000   6111.000\n",
      "\n",
      "--------------------------------------\n",
      "--------------------------------------\n",
      "Relative Frequencies: \n",
      "\n",
      "Column: beds \n",
      " 3.000   0.445\n",
      "4.000   0.291\n",
      "2.000   0.159\n",
      "5.000   0.076\n",
      "6.000   0.012\n",
      "Name: beds, dtype: float64 \n",
      "\n",
      "------------------------------------------\n",
      "--------------------------------------\n",
      "Column: baths \n",
      " 2.000   0.417\n",
      "3.000   0.204\n",
      "1.000   0.182\n",
      "2.500   0.075\n",
      "4.000   0.042\n",
      "Name: baths, dtype: float64 \n",
      "\n",
      "------------------------------------------\n",
      "--------------------------------------\n",
      "Column: area \n",
      "\n",
      "Range of Values: [128.0 - 21929.0] \n",
      "\n",
      "------------------------------------------\n",
      "--------------------------------------\n",
      "Column: assessed_value \n",
      "\n",
      "Range of Values: [1000.0 - 49061236.0] \n",
      "\n",
      "------------------------------------------\n",
      "--------------------------------------\n",
      "Column: year_built \n",
      "\n",
      "Range of Values: [1878.0 - 2016.0] \n",
      "\n",
      "------------------------------------------\n",
      "--------------------------------------\n",
      "Column: county \n",
      " 6037.000   0.647\n",
      "6059.000   0.270\n",
      "6111.000   0.084\n",
      "Name: county, dtype: float64 \n",
      "\n",
      "------------------------------------------\n",
      "--------------------------------------\n"
     ]
    }
   ],
   "source": [
    "describe_data(df)"
   ]
  },
  {
   "cell_type": "markdown",
   "id": "a33ece1a-4dfe-44b3-bcc0-abf9de637273",
   "metadata": {},
   "source": [
    "### An Assessment of Acquisition\n",
    "\n",
    "- The Zillow Dataframe has several observations to draw insight through\n",
    "- Very few null values, these rows will be dropped altogether. \n",
    "- Currently all columns are Float64. This must change. \n",
    "- Counties can be one-hot encoded, but care must be given to ensure Los Angeles is not dropped as nearly 65% of the sample is there. \n",
    "- Yearbuilt can be used to calculate age, which may be more useful as it will then be continuous.\n",
    "- Median build year is 1961, which is thankfully close to the mean, so I'm not worried about dates having some absurd errors.\n",
    "- Not particularly interested in Victorian Era (< 1902) homes, as they may have no bathrooms and hardly fit the profile of a family residential, as a result.\n",
    "- Average number of baths 2, beds 3.\n",
    "- Min number of beds and baths 0. 0 Beds is understandable for a single person as it could be a studio; 0 baths is nonsensical. \n",
    "   - The problem with even considering a studio as a factor here is that it goes against single-family zoning, which refers to a residential area where only one housing unit can be built on a given parcel of land. In fact, there is a Southern California suburban staple of a home with no shared walls — in other words, not a duplex, triplex or multiunit complex. Yet another big flag for data integrity and \"human error\" present in the data frame. It's more comfortable to assume that each of the values in the rows where both of those meet 0 are also inaccurate, and so the model would likely benefit from their exclusion.\n",
    "- Average assessed_value over a half million. The difference between max and mins is a clear indication that there will be skewing and outliers. \n",
    "- Of course, the minimum assessment_value is a no-brainer when it comes to its validity. Good luck even having a 4 sq ft patch of grass to call your own for less than $1000. "
   ]
  },
  {
   "cell_type": "markdown",
   "id": "5f2403d0-ee27-4730-9722-2bdf2a8fe77f",
   "metadata": {},
   "source": [
    "### Zillow Preparation Station\n",
    "\n",
    "In order to proceed toward drawing meaningful conclusions about this data, there's some cleaning that needs to be done. \n",
    "First I'll check out some univariate distributions after removing the nulls, given the inconsequentiality of their representation."
   ]
  },
  {
   "cell_type": "code",
   "execution_count": null,
   "id": "637da68d-9ec4-4e13-b528-336453163d1a",
   "metadata": {},
   "outputs": [],
   "source": [
    "# shape before nulls are gone. \n",
    "df.shape"
   ]
  },
  {
   "cell_type": "code",
   "execution_count": 53,
   "id": "5a834811-22d7-430d-b65e-6eaf19893e91",
   "metadata": {},
   "outputs": [
    {
     "data": {
      "application/vnd.jupyter.widget-view+json": {
       "model_id": "6ae89c44b8de4578b6e2b1d8c8615462",
       "version_major": 2,
       "version_minor": 0
      },
      "text/plain": [
       "Button(description='Toggle Pandas/Lux', layout=Layout(top='5px', width='140px'), style=ButtonStyle())"
      ]
     },
     "metadata": {},
     "output_type": "display_data"
    },
    {
     "data": {
      "application/vnd.jupyter.widget-view+json": {
       "model_id": "872a7d8a3d4343468153894e02d414d8",
       "version_major": 2,
       "version_minor": 0
      },
      "text/plain": [
       "Output()"
      ]
     },
     "metadata": {},
     "output_type": "display_data"
    }
   ],
   "source": [
    "df"
   ]
  },
  {
   "cell_type": "code",
   "execution_count": 52,
   "id": "3886e577-077c-4412-a117-4e56e68ee749",
   "metadata": {},
   "outputs": [],
   "source": [
    "#import mitosheet\n",
    "#mitosheet.sheet(df, view_df=True)"
   ]
  },
  {
   "cell_type": "code",
   "execution_count": null,
   "id": "90d630fc-a848-4669-880b-2159f9a3a337",
   "metadata": {},
   "outputs": [],
   "source": []
  },
  {
   "cell_type": "code",
   "execution_count": null,
   "id": "136b973a-d2a7-4b1b-8820-d642e9862e17",
   "metadata": {},
   "outputs": [],
   "source": [
    "#just in case there are blanks\n",
    "df = df.replace(r'^\\s*$', np.NaN, regex=True)\n",
    "# drop all nulls, for an affect of .00586 on data\n",
    "df.dropna(axis=0, how='any', inplace=True)\n",
    "\n",
    "#shape after nulls are gone. Only lost 122 rows.\n",
    "df.shape"
   ]
  },
  {
   "cell_type": "code",
   "execution_count": 40,
   "id": "862c83fb-fac7-4b54-9c9e-22cc78676b3b",
   "metadata": {},
   "outputs": [],
   "source": [
    "def generate_hist(df, var):\n",
    "    '''\n",
    "    Helper function. Given a dataframe DF and a variable to plot, this function will \n",
    "    generate and display a histogram for that variable.\n",
    "    '''\n",
    "    print ('Distribution of ' + var)\n",
    "    df[var].hist()\n",
    "    plt.grid(False)\n",
    "    plt.xlabel(var)\n",
    "    plt.ylabel('Number of Properties')\n",
    "    plt.show()\n",
    "\n",
    "def explore_univariate(df, categorical_vars, quantitative_vars):\n",
    "    '''\n",
    "    This function takes in categorical and quantitative (continuous) variables from a dataframe.\n",
    "    It returns a bar plot for each categorical variable\n",
    "    and a histogram and boxplot for each continuous variable.\n",
    "    '''\n",
    "    # plot frequencies for each categorical variable\n",
    "    for var in categorical_vars: \n",
    "        print('Bar Plot of ' + var)\n",
    "        bp = df[var].hist()\n",
    "        plt.xlabel(var)\n",
    "        plt.ylabel('count')\n",
    "        bp.grid(False)\n",
    "        plt.show()\n",
    "        \n",
    "    # print histogram for each continuous variable\n",
    "    for var in quantitative_vars:\n",
    "        generate_hist(df, var)\n",
    "        # creating boxplot for each variable\n",
    "        plt.figure(figsize=(10,5))\n",
    "        sns.boxplot(x=var, data=df,  palette=\"twilight_shifted\")\n",
    "        plt.title('Distribution of ' + var)\n",
    "        plt.show()\n"
   ]
  },
  {
   "cell_type": "code",
   "execution_count": null,
   "id": "be76ead5-f03c-49f9-ba86-d0815c5f9edc",
   "metadata": {},
   "outputs": [],
   "source": [
    "categorical_vars = ['county']\n",
    "quantitative_variables = ['beds', 'baths', 'area', 'assessed_value', 'year_built']"
   ]
  },
  {
   "cell_type": "code",
   "execution_count": null,
   "id": "42242d12-3f02-49c4-9d8e-b1ab41af25e8",
   "metadata": {},
   "outputs": [],
   "source": [
    "explore_univariate(df, categorical_vars, quantitative_variables)"
   ]
  },
  {
   "cell_type": "code",
   "execution_count": 8,
   "id": "a7ee5654-658d-4c4d-9fcf-742d674fd55a",
   "metadata": {},
   "outputs": [],
   "source": [
    "def remove_outliers(df, k, col_list):\n",
    "    for col in col_list:\n",
    "        \n",
    "        q1, q3 = df[col].quantile([.25, .75])\n",
    "        \n",
    "        iqr = q3 - q1\n",
    "        \n",
    "        upper_bound = q3 + k * iqr\n",
    "        lower_bound = q1 - k * iqr\n",
    "        \n",
    "        df = df[(df[col] > lower_bound) & (df[col] < upper_bound)]\n",
    "        \n",
    "    return df"
   ]
  },
  {
   "cell_type": "code",
   "execution_count": 9,
   "id": "53fb6bc6-0b91-4694-a5b8-967b2eed453d",
   "metadata": {},
   "outputs": [],
   "source": [
    "# modifyfips\n",
    "df['county'] = df.county.apply(lambda county: '0' + str(int(county)))\n",
    "df['county'].replace({'06037': 'los_angeles', '06059': 'orange', '06111': 'ventura'}, inplace=True)"
   ]
  },
  {
   "cell_type": "code",
   "execution_count": 10,
   "id": "7bc1175f-38c9-48ac-b8b8-9c47e44205c0",
   "metadata": {},
   "outputs": [],
   "source": [
    "# to satisfy my curiosity, I'm gonna see how many outliers there are pure county.\n",
    "# Select all rows and columns where county_name == orange\n",
    "orange = df[df['county'] == 'orange']\n",
    "ventura = df[df['county'] == 'ventura']\n",
    "los_angeles = df[df['county'] == 'los_angeles']"
   ]
  },
  {
   "cell_type": "code",
   "execution_count": 11,
   "id": "ba0af1ce-ad9b-4ca5-8be3-cd9e75977bfe",
   "metadata": {},
   "outputs": [
    {
     "data": {
      "text/plain": [
       "((14136, 6), (4395, 6), (33910, 6))"
      ]
     },
     "execution_count": 11,
     "metadata": {},
     "output_type": "execute_result"
    }
   ],
   "source": [
    "# before removing outliers.\n",
    "orange.shape, ventura.shape, los_angeles.shape"
   ]
  },
  {
   "cell_type": "code",
   "execution_count": 12,
   "id": "dab46c5a-51ec-488c-875f-7ae19e9881e7",
   "metadata": {},
   "outputs": [],
   "source": [
    "orange = remove_outliers(orange, 1.5, ['beds', 'baths', 'area', 'assessed_value', 'year_built'])\n",
    "ventura = remove_outliers(ventura, 1.5, ['beds', 'baths', 'area', 'assessed_value', 'year_built'])\n",
    "los_angeles = remove_outliers(los_angeles, 1.5, ['beds', 'baths', 'area', 'assessed_value', 'year_built'])"
   ]
  },
  {
   "cell_type": "code",
   "execution_count": 13,
   "id": "43abbbd0-6225-427b-8617-e268c87176e8",
   "metadata": {},
   "outputs": [
    {
     "name": "stdout",
     "output_type": "stream",
     "text": [
      "(12189, 6) (3824, 6) (26297, 6)\n",
      "Loss of rows in Orange = 1893\n",
      "Loss of rows in Ventura = 534\n",
      "Loss of rows in Los Angeles = 7581\n",
      "Total loss of rows when separated by county = 10008\n",
      "Original Number of Rows after nulls removed = 52319\n",
      "Percentage Loss for DataFrame if Combined= 19.13 %\n"
     ]
    }
   ],
   "source": [
    "# after removing outliers.\n",
    "print(orange.shape, ventura.shape, los_angeles.shape)\n",
    "print(f'Loss of rows in Orange = {14082-12189}')\n",
    "print(f'Loss of rows in Ventura = {4358-3824}')\n",
    "print(f'Loss of rows in Los Angeles = {33879-26298}')\n",
    "print(f'Total loss of rows when separated by county = {1893 + 534 + 7581}')\n",
    "print(f'Original Number of Rows after nulls removed = 52319')\n",
    "print(f'Percentage Loss for DataFrame if Combined= {round((52319-42311)/52319*100,2)} %')"
   ]
  },
  {
   "cell_type": "code",
   "execution_count": null,
   "id": "7659be41-73cc-40cc-aa22-55189b3b9720",
   "metadata": {},
   "outputs": [],
   "source": []
  },
  {
   "cell_type": "code",
   "execution_count": 14,
   "id": "ca3c625a-d212-4456-b415-499a1053c1c4",
   "metadata": {},
   "outputs": [
    {
     "name": "stdout",
     "output_type": "stream",
     "text": [
      " DF Shape before removing outliers (52441, 6)\n"
     ]
    }
   ],
   "source": [
    "# now the same thing on the entire dataframe to see if the results are the same. \n",
    "print(f' DF Shape before removing outliers {df.shape}')\n",
    "#still in tact."
   ]
  },
  {
   "cell_type": "code",
   "execution_count": 15,
   "id": "eb9ef434-428f-4e11-9116-c0edb2daac2b",
   "metadata": {},
   "outputs": [],
   "source": [
    "df = remove_outliers(df, 1.5, ['beds', 'baths', 'area', 'assessed_value', 'year_built'])"
   ]
  },
  {
   "cell_type": "code",
   "execution_count": 16,
   "id": "6320d737-7773-4980-9dee-9bc289db4059",
   "metadata": {},
   "outputs": [
    {
     "name": "stdout",
     "output_type": "stream",
     "text": [
      "Total loss of rows = 7081\n",
      "Percentage Loss for DataFrame= 13.53 %\n"
     ]
    }
   ],
   "source": [
    "df.shape\n",
    "print(f'Total loss of rows = {52319 - 45238}')\n",
    "print(f'Percentage Loss for DataFrame= {round((52319 - 45238)/52319*100,2)} %')"
   ]
  },
  {
   "cell_type": "code",
   "execution_count": 17,
   "id": "bfec2682-ac85-4e55-942b-e8991dffcb8c",
   "metadata": {},
   "outputs": [],
   "source": [
    "# copy current working dataframe; changes won't be reflected on original df in case I want to go back. \n",
    "df_experiment = df.copy()"
   ]
  },
  {
   "cell_type": "code",
   "execution_count": 18,
   "id": "fbf7c5a1-6b62-489a-aad4-033a5a7f8a54",
   "metadata": {},
   "outputs": [],
   "source": [
    "orange_juice = orange.copy()\n",
    "ventura_gravy = ventura.copy()\n",
    "los_angeles_les = los_angeles.copy()"
   ]
  },
  {
   "cell_type": "markdown",
   "id": "584f01bb-4045-4a59-98eb-c46dcfda525b",
   "metadata": {},
   "source": [
    "I'm very interested in the differences between these figures. ~14% VS ~19%. Because value is based in proximity, among many other factors, I find controlling for each of the counties individually to be an interesting and plausibly more accurate approach. I will test this statistically later, first I need to make sure I merge the county dataframes into a new one properly. "
   ]
  },
  {
   "cell_type": "code",
   "execution_count": 19,
   "id": "e0139131-a8b3-4184-a97a-19f23e925e3a",
   "metadata": {},
   "outputs": [],
   "source": [
    "from functools import reduce\n",
    "dfs = [orange_juice, ventura_gravy, los_angeles_les]\n",
    "df_cronenberg = reduce(lambda left,right: pd.merge(left,right,on='county'), dfs)"
   ]
  },
  {
   "cell_type": "code",
   "execution_count": 20,
   "id": "ef21d439-0bbd-428d-8238-e6b61198d4e2",
   "metadata": {},
   "outputs": [],
   "source": [
    "# that code above didn't work. I'll try what I know from dummies, but along rows\n",
    "df_whoops = pd.concat([orange_juice, ventura_gravy], axis=0)"
   ]
  },
  {
   "cell_type": "code",
   "execution_count": 21,
   "id": "83e3f308-b4da-4809-abba-2dbda977be95",
   "metadata": {},
   "outputs": [],
   "source": [
    "df_hope = pd.concat([df_whoops, los_angeles_les], axis=0)"
   ]
  },
  {
   "cell_type": "code",
   "execution_count": 22,
   "id": "f9292c29-12ec-457e-ae92-61175546a2c5",
   "metadata": {},
   "outputs": [
    {
     "data": {
      "text/plain": [
       "(42310, 6)"
      ]
     },
     "execution_count": 22,
     "metadata": {},
     "output_type": "execute_result"
    }
   ],
   "source": [
    "df_hope.shape #AHAHA It worked! "
   ]
  },
  {
   "cell_type": "code",
   "execution_count": 23,
   "id": "c6cedd9b-c86e-4934-9355-ea64b9bb4543",
   "metadata": {},
   "outputs": [
    {
     "name": "stdout",
     "output_type": "stream",
     "text": [
      "This dataframe has 42310 rows and 6 columns.\n",
      "\n",
      "--------------------------------------\n",
      "--------------------------------------\n",
      "<class 'lux.core.frame.LuxDataFrame'>\n",
      "Int64Index: 42310 entries, 0 to 52440\n",
      "Data columns (total 6 columns):\n",
      " #   Column          Non-Null Count  Dtype  \n",
      "---  ------          --------------  -----  \n",
      " 0   beds            42310 non-null  float64\n",
      " 1   baths           42310 non-null  float64\n",
      " 2   area            42310 non-null  float64\n",
      " 3   assessed_value  42310 non-null  float64\n",
      " 4   year_built      42310 non-null  float64\n",
      " 5   county          42310 non-null  object \n",
      "dtypes: float64(5), object(1)\n",
      "memory usage: 2.3+ MB\n",
      "None\n",
      "\n",
      "--------------------------------------\n",
      "--------------------------------------\n",
      "Null Values: \n",
      "                count  percentage\n",
      "beds                0       0.000\n",
      "baths               0       0.000\n",
      "area                0       0.000\n",
      "assessed_value      0       0.000\n",
      "year_built          0       0.000\n",
      "county              0       0.000\n",
      " \n",
      " Total Number of Missing Values: 0 \n",
      "\n",
      " Proportion of Nulls in Dataframe: 0.0\n",
      "\n",
      "--------------------------------------\n",
      "--------------------------------------\n",
      "Here are the summary statistics of our dataset\n",
      "            beds      baths       area assessed_value year_built\n",
      "count  42310.000  42310.000  42310.000      42310.000  42310.000\n",
      "mean       3.199      2.090   1682.432     371934.208   1961.928\n",
      "std        0.778      0.709    600.367     245353.782     19.071\n",
      "min        2.000      1.000    152.000       1000.000   1919.000\n",
      "25%        3.000      2.000   1236.000     169311.500   1950.000\n",
      "50%        3.000      2.000   1558.000     337880.500   1959.000\n",
      "75%        4.000      2.500   2027.000     520902.000   1975.000\n",
      "max        5.000      4.000   3902.000    1255855.000   2015.000\n",
      "\n",
      "--------------------------------------\n",
      "--------------------------------------\n",
      "Relative Frequencies: \n",
      "\n",
      "Column: beds \n",
      " 3.000   0.495\n",
      "4.000   0.282\n",
      "2.000   0.176\n",
      "5.000   0.047\n",
      "Name: beds, dtype: float64 \n",
      "\n",
      "------------------------------------------\n",
      "--------------------------------------\n",
      "Column: baths \n",
      " 2.000   0.480\n",
      "1.000   0.190\n",
      "3.000   0.187\n",
      "2.500   0.090\n",
      "1.500   0.019\n",
      "Name: baths, dtype: float64 \n",
      "\n",
      "------------------------------------------\n",
      "--------------------------------------\n",
      "Column: area \n",
      "\n",
      "Range of Values: [152.0 - 3902.0] \n",
      "\n",
      "------------------------------------------\n",
      "--------------------------------------\n",
      "Column: assessed_value \n",
      "\n",
      "Range of Values: [1000.0 - 1255855.0] \n",
      "\n",
      "------------------------------------------\n",
      "--------------------------------------\n",
      "Column: year_built \n",
      "\n",
      "Range of Values: [1919.0 - 2015.0] \n",
      "\n",
      "------------------------------------------\n",
      "--------------------------------------\n",
      "Column: county \n",
      " los_angeles   0.622\n",
      "orange        0.288\n",
      "ventura       0.090\n",
      "Name: county, dtype: float64 \n",
      "\n",
      "------------------------------------------\n",
      "--------------------------------------\n"
     ]
    }
   ],
   "source": [
    "describe_data(df_hope)"
   ]
  },
  {
   "cell_type": "code",
   "execution_count": 24,
   "id": "96128e70-52ca-47ce-8ba7-9687538de4a6",
   "metadata": {},
   "outputs": [
    {
     "name": "stdout",
     "output_type": "stream",
     "text": [
      "This dataframe has 45241 rows and 6 columns.\n",
      "\n",
      "--------------------------------------\n",
      "--------------------------------------\n",
      "<class 'lux.core.frame.LuxDataFrame'>\n",
      "Int64Index: 45241 entries, 0 to 52440\n",
      "Data columns (total 6 columns):\n",
      " #   Column          Non-Null Count  Dtype  \n",
      "---  ------          --------------  -----  \n",
      " 0   beds            45241 non-null  float64\n",
      " 1   baths           45241 non-null  float64\n",
      " 2   area            45241 non-null  float64\n",
      " 3   assessed_value  45241 non-null  float64\n",
      " 4   year_built      45241 non-null  float64\n",
      " 5   county          45241 non-null  object \n",
      "dtypes: float64(5), object(1)\n",
      "memory usage: 2.4+ MB\n",
      "None\n",
      "\n",
      "--------------------------------------\n",
      "--------------------------------------\n",
      "Null Values: \n",
      "                count  percentage\n",
      "beds                0       0.000\n",
      "baths               0       0.000\n",
      "area                0       0.000\n",
      "assessed_value      0       0.000\n",
      "year_built          0       0.000\n",
      "county              0       0.000\n",
      " \n",
      " Total Number of Missing Values: 0 \n",
      "\n",
      " Proportion of Nulls in Dataframe: 0.0\n",
      "\n",
      "--------------------------------------\n",
      "--------------------------------------\n",
      "Here are the summary statistics of our dataset\n",
      "            beds      baths       area assessed_value year_built\n",
      "count  45241.000  45241.000  45241.000      45241.000  45241.000\n",
      "mean       3.215      2.111   1707.381     373913.595   1962.640\n",
      "std        0.789      0.727    613.315     244718.220     21.271\n",
      "min        2.000      1.000    152.000       1000.000   1910.000\n",
      "25%        3.000      2.000   1243.000     175068.000   1950.000\n",
      "50%        3.000      2.000   1577.000     337746.000   1960.000\n",
      "75%        4.000      2.500   2072.000     523044.000   1977.000\n",
      "max        5.000      4.000   3569.000    1124001.000   2016.000\n",
      "\n",
      "--------------------------------------\n",
      "--------------------------------------\n",
      "Relative Frequencies: \n",
      "\n",
      "Column: beds \n",
      " 3.000   0.486\n",
      "4.000   0.288\n",
      "2.000   0.175\n",
      "5.000   0.051\n",
      "Name: beds, dtype: float64 \n",
      "\n",
      "------------------------------------------\n",
      "--------------------------------------\n",
      "Column: baths \n",
      " 2.000   0.466\n",
      "3.000   0.207\n",
      "1.000   0.191\n",
      "2.500   0.084\n",
      "4.000   0.023\n",
      "Name: baths, dtype: float64 \n",
      "\n",
      "------------------------------------------\n",
      "--------------------------------------\n",
      "Column: area \n",
      "\n",
      "Range of Values: [152.0 - 3569.0] \n",
      "\n",
      "------------------------------------------\n",
      "--------------------------------------\n",
      "Column: assessed_value \n",
      "\n",
      "Range of Values: [1000.0 - 1124001.0] \n",
      "\n",
      "------------------------------------------\n",
      "--------------------------------------\n",
      "Column: year_built \n",
      "\n",
      "Range of Values: [1910.0 - 2016.0] \n",
      "\n",
      "------------------------------------------\n",
      "--------------------------------------\n",
      "Column: county \n",
      " los_angeles   0.649\n",
      "orange        0.266\n",
      "ventura       0.085\n",
      "Name: county, dtype: float64 \n",
      "\n",
      "------------------------------------------\n",
      "--------------------------------------\n"
     ]
    }
   ],
   "source": [
    "describe_data(df)"
   ]
  },
  {
   "cell_type": "markdown",
   "id": "eb4439f8-c63e-4aef-ac3f-8da3dfc39f54",
   "metadata": {},
   "source": [
    "Here are the summary statistics of our DF_HOPE\n",
    "            beds      baths       area assessed_value year_built\n",
    "count  42311.000  42311.000  42311.000      42311.000  42311.000\n",
    "mean       3.199      2.090   1682.471     371944.307   1961.929\n",
    "std        0.778      0.709    600.413     245359.675     19.071\n",
    "min        2.000      1.000    152.000       1000.000   1919.000\n",
    "25%        3.000      2.000   1236.000     169314.000   1950.000\n",
    "50%        3.000      2.000   1558.000     337909.000   1959.000\n",
    "75%        4.000      2.500   2027.500     520918.000   1975.000\n",
    "max        5.000      4.000   3902.000    1255855.000   2015.000\n",
    "\n",
    "Here are the summary statistics of our 'original' dataset\n",
    "            beds      baths       area assessed_value year_built\n",
    "count  45238.000  45238.000  45238.000      45238.000  45238.000\n",
    "mean       3.215      2.111   1707.257     373888.042   1962.638\n",
    "std        0.789      0.727    613.148     244706.175     21.270\n",
    "min        2.000      1.000    152.000       1000.000   1910.000\n",
    "25%        3.000      2.000   1243.000     175041.000   1950.000\n",
    "50%        3.000      2.000   1577.000     337694.000   1960.000\n",
    "75%        4.000      2.500   2071.000     523000.000   1977.000\n",
    "max        5.000      4.000   3566.000    1124001.000   2016.000\n",
    "\n",
    "Relative Frequencies: DF HOPE \n",
    "\n",
    "Column: beds \n",
    " 3.000   0.495\n",
    "4.000   0.282\n",
    "2.000   0.176\n",
    "5.000   0.047\n",
    "Name: beds, dtype: float64 \n",
    "\n",
    "------------------------------------------\n",
    "--------------------------------------\n",
    "Column: baths \n",
    " 2.000   0.480\n",
    "1.000   0.190\n",
    "3.000   0.187\n",
    "2.500   0.090\n",
    "1.500   0.019\n",
    "Name: baths, dtype: float64     \n",
    "\n",
    "\n",
    "\n",
    "--------------------------------------\n",
    "Relative Frequencies: OG DF\n",
    "\n",
    "Column: beds \n",
    " 3.000   0.486\n",
    "4.000   0.288\n",
    "2.000   0.175\n",
    "5.000   0.051\n",
    "Name: beds, dtype: float64 \n",
    "\n",
    "------------------------------------------\n",
    "--------------------------------------\n",
    "Column: baths \n",
    " 2.000   0.466\n",
    "3.000   0.207\n",
    "1.000   0.191\n",
    "2.500   0.084\n",
    "4.000   0.023\n",
    "Name: baths, dtype: float64 \n",
    "\n",
    "------------------------------------------\n",
    "\n",
    "Highly similar except baths are distributed with more baths per property in DF Hope "
   ]
  },
  {
   "cell_type": "code",
   "execution_count": null,
   "id": "a72e8537-2280-4fb2-926d-324d1cb5fdb7",
   "metadata": {},
   "outputs": [],
   "source": [
    "df_hope"
   ]
  },
  {
   "cell_type": "code",
   "execution_count": 32,
   "id": "b7feebec-1f20-4697-9a53-70268ed6b71b",
   "metadata": {},
   "outputs": [],
   "source": [
    "df_hope = df_hope.sort_values(by='area', ascending=True)"
   ]
  },
  {
   "cell_type": "code",
   "execution_count": 33,
   "id": "efd9c2a5-49ad-4023-9565-7942e77e4070",
   "metadata": {},
   "outputs": [
    {
     "data": {
      "application/vnd.jupyter.widget-view+json": {
       "model_id": "23a2347f74b74c2dbdd7f4b7f039c79d",
       "version_major": 2,
       "version_minor": 0
      },
      "text/plain": [
       "Button(description='Toggle Pandas/Lux', layout=Layout(top='5px', width='140px'), style=ButtonStyle())"
      ]
     },
     "metadata": {},
     "output_type": "display_data"
    },
    {
     "data": {
      "application/vnd.jupyter.widget-view+json": {
       "model_id": "6413f2ee051346e48abd216e0fd2d7aa",
       "version_major": 2,
       "version_minor": 0
      },
      "text/plain": [
       "Output()"
      ]
     },
     "metadata": {},
     "output_type": "display_data"
    }
   ],
   "source": [
    "df_hope.head(20)"
   ]
  },
  {
   "cell_type": "markdown",
   "id": "9506f2e2-cd1e-4520-bf6b-2763a22cc054",
   "metadata": {},
   "source": [
    "Data Validity once again comes into question. For the millionth time. So, a piece of property  in los_angeles with an area of 152 also has 5 beds and 2 baths. 400 square feet would effectively be the size of a two-car garage. It seems I need to be less forgiving with my outlier syste. See also "
   ]
  },
  {
   "cell_type": "code",
   "execution_count": 36,
   "id": "acb19efc-0027-4496-84c2-088168b5b21c",
   "metadata": {},
   "outputs": [],
   "source": [
    "df_hope = df_hope.drop(labels=51075, axis=0)\n",
    "#alright, that one is gone. "
   ]
  },
  {
   "cell_type": "code",
   "execution_count": 43,
   "id": "8261a7fc-9b3a-4aad-aa87-deef5edfdfe7",
   "metadata": {},
   "outputs": [
    {
     "name": "stdout",
     "output_type": "stream",
     "text": [
      "Bar Plot of county\n"
     ]
    },
    {
     "data": {
      "image/png": "[encoded data removed]",
      "text/plain": [
       "<Figure size 432x288 with 1 Axes>"
      ]
     },
     "metadata": {
      "needs_background": "light"
     },
     "output_type": "display_data"
    },
    {
     "name": "stdout",
     "output_type": "stream",
     "text": [
      "Distribution of beds\n"
     ]
    },
    {
     "data": {
      "image/png": "[encoded data removed]",
      "text/plain": [
       "<Figure size 432x288 with 1 Axes>"
      ]
     },
     "metadata": {
      "needs_background": "light"
     },
     "output_type": "display_data"
    },
    {
     "data": {
      "image/png": "[encoded data removed]",
      "text/plain": [
       "<Figure size 720x360 with 1 Axes>"
      ]
     },
     "metadata": {
      "needs_background": "light"
     },
     "output_type": "display_data"
    },
    {
     "name": "stdout",
     "output_type": "stream",
     "text": [
      "Distribution of baths\n"
     ]
    },
    {
     "data": {
      "image/png": "[encoded data removed]",
      "text/plain": [
       "<Figure size 432x288 with 1 Axes>"
      ]
     },
     "metadata": {
      "needs_background": "light"
     },
     "output_type": "display_data"
    },
    {
     "data": {
      "image/png": "[encoded data removed]",
      "text/plain": [
       "<Figure size 720x360 with 1 Axes>"
      ]
     },
     "metadata": {
      "needs_background": "light"
     },
     "output_type": "display_data"
    },
    {
     "name": "stdout",
     "output_type": "stream",
     "text": [
      "Distribution of area\n"
     ]
    },
    {
     "data": {
      "image/png": "[encoded data removed]",
      "text/plain": [
       "<Figure size 432x288 with 1 Axes>"
      ]
     },
     "metadata": {
      "needs_background": "light"
     },
     "output_type": "display_data"
    },
    {
     "data": {
      "image/png": "[encoded data removed]",
      "text/plain": [
       "<Figure size 720x360 with 1 Axes>"
      ]
     },
     "metadata": {
      "needs_background": "light"
     },
     "output_type": "display_data"
    },
    {
     "name": "stdout",
     "output_type": "stream",
     "text": [
      "Distribution of assessed_value\n"
     ]
    },
    {
     "data": {
      "image/png": "[encoded data removed]",
      "text/plain": [
       "<Figure size 432x288 with 1 Axes>"
      ]
     },
     "metadata": {
      "needs_background": "light"
     },
     "output_type": "display_data"
    },
    {
     "data": {
      "image/png": "[encoded data removed]",
      "text/plain": [
       "<Figure size 720x360 with 1 Axes>"
      ]
     },
     "metadata": {
      "needs_background": "light"
     },
     "output_type": "display_data"
    }
   ],
   "source": [
    "categorical_vars = ['county']\n",
    "quantitative_variables = ['beds', 'baths', 'area', 'assessed_value']\n",
    "\n",
    "explore_univariate(df_hope, categorical_vars, quantitative_variables)"
   ]
  },
  {
   "cell_type": "code",
   "execution_count": 44,
   "id": "134c0dc1-ce36-458c-9e02-72bb4a703836",
   "metadata": {},
   "outputs": [
    {
     "name": "stdout",
     "output_type": "stream",
     "text": [
      "Bar Plot of county\n"
     ]
    },
    {
     "data": {
      "image/png": "[encoded data removed]",
      "text/plain": [
       "<Figure size 432x288 with 1 Axes>"
      ]
     },
     "metadata": {
      "needs_background": "light"
     },
     "output_type": "display_data"
    },
    {
     "name": "stdout",
     "output_type": "stream",
     "text": [
      "Distribution of beds\n"
     ]
    },
    {
     "data": {
      "image/png": "[encoded data removed]",
      "text/plain": [
       "<Figure size 432x288 with 1 Axes>"
      ]
     },
     "metadata": {
      "needs_background": "light"
     },
     "output_type": "display_data"
    },
    {
     "data": {
      "image/png": "[encoded data removed]",
      "text/plain": [
       "<Figure size 720x360 with 1 Axes>"
      ]
     },
     "metadata": {
      "needs_background": "light"
     },
     "output_type": "display_data"
    },
    {
     "name": "stdout",
     "output_type": "stream",
     "text": [
      "Distribution of baths\n"
     ]
    },
    {
     "data": {
      "image/png": "[encoded data removed]",
      "text/plain": [
       "<Figure size 432x288 with 1 Axes>"
      ]
     },
     "metadata": {
      "needs_background": "light"
     },
     "output_type": "display_data"
    },
    {
     "data": {
      "image/png": "[encoded data removed]",
      "text/plain": [
       "<Figure size 720x360 with 1 Axes>"
      ]
     },
     "metadata": {
      "needs_background": "light"
     },
     "output_type": "display_data"
    },
    {
     "name": "stdout",
     "output_type": "stream",
     "text": [
      "Distribution of area\n"
     ]
    },
    {
     "data": {
      "image/png": "[encoded data removed]",
      "text/plain": [
       "<Figure size 432x288 with 1 Axes>"
      ]
     },
     "metadata": {
      "needs_background": "light"
     },
     "output_type": "display_data"
    },
    {
     "data": {
      "image/png": "[encoded data removed]",
      "text/plain": [
       "<Figure size 720x360 with 1 Axes>"
      ]
     },
     "metadata": {
      "needs_background": "light"
     },
     "output_type": "display_data"
    },
    {
     "name": "stdout",
     "output_type": "stream",
     "text": [
      "Distribution of assessed_value\n"
     ]
    },
    {
     "data": {
      "image/png": "[encoded data removed]",
      "text/plain": [
       "<Figure size 432x288 with 1 Axes>"
      ]
     },
     "metadata": {
      "needs_background": "light"
     },
     "output_type": "display_data"
    },
    {
     "data": {
      "image/png": "[encoded data removed]",
      "text/plain": [
       "<Figure size 720x360 with 1 Axes>"
      ]
     },
     "metadata": {
      "needs_background": "light"
     },
     "output_type": "display_data"
    }
   ],
   "source": [
    "categorical_vars = ['county']\n",
    "quantitative_variables = ['beds', 'baths', 'area', 'assessed_value']\n",
    "\n",
    "explore_univariate(df, categorical_vars, quantitative_variables)"
   ]
  },
  {
   "cell_type": "code",
   "execution_count": 48,
   "id": "92bc07e3-7569-445b-adaa-650f5fdcfe9b",
   "metadata": {},
   "outputs": [],
   "source": [
    "report = ProfileReport(df_hope)\n",
    "#report"
   ]
  },
  {
   "cell_type": "code",
   "execution_count": null,
   "id": "2ab18473-a02a-4c96-9b1b-925f8765d242",
   "metadata": {},
   "outputs": [],
   "source": [
    "# group by number of beds and check number of baths and then run statistical tests based on that. "
   ]
  },
  {
   "cell_type": "code",
   "execution_count": 54,
   "id": "f2e2f001-326d-4ff2-8267-7ce58f5a10fb",
   "metadata": {},
   "outputs": [],
   "source": [
    "dummy_df=pd.get_dummies(df['county'], dummy_na=False, \n",
    "                        drop_first=False)"
   ]
  },
  {
   "cell_type": "code",
   "execution_count": 57,
   "id": "cba6b200-7fc3-4468-b1cb-02bc6703c3a5",
   "metadata": {},
   "outputs": [],
   "source": [
    "dummy_df = dummy_df.drop(columns='ventura')"
   ]
  },
  {
   "cell_type": "code",
   "execution_count": 61,
   "id": "a6befa21-62db-4bdf-8524-f6a8b6a83121",
   "metadata": {},
   "outputs": [],
   "source": [
    "df = pd.concat([df, dummy_df], axis = 1)"
   ]
  },
  {
   "cell_type": "code",
   "execution_count": null,
   "id": "568e513a-eef5-4689-bd86-e83a653a1365",
   "metadata": {},
   "outputs": [],
   "source": [
    "df"
   ]
  },
  {
   "cell_type": "code",
   "execution_count": 63,
   "id": "4f0d08aa-37d7-4abc-9003-83fc30f8999c",
   "metadata": {},
   "outputs": [
    {
     "ename": "AttributeError",
     "evalue": "'LuxDataFrame' object has no attribute 'dtype'",
     "output_type": "error",
     "traceback": [
      "\u001b[0;31m---------------------------------------------------------------------------\u001b[0m",
      "\u001b[0;31mAttributeError\u001b[0m                            Traceback (most recent call last)",
      "\u001b[0;32m/var/folders/qn/sd1_3x2j4196db03067vql600000gn/T/ipykernel_29529/2351288750.py\u001b[0m in \u001b[0;36m<module>\u001b[0;34m\u001b[0m\n\u001b[1;32m      1\u001b[0m \u001b[0;32mimport\u001b[0m \u001b[0mmitosheet\u001b[0m\u001b[0;34m\u001b[0m\u001b[0;34m\u001b[0m\u001b[0m\n\u001b[0;32m----> 2\u001b[0;31m \u001b[0mmitosheet\u001b[0m\u001b[0;34m.\u001b[0m\u001b[0msheet\u001b[0m\u001b[0;34m(\u001b[0m\u001b[0mdf\u001b[0m\u001b[0;34m,\u001b[0m \u001b[0mview_df\u001b[0m\u001b[0;34m=\u001b[0m\u001b[0;32mTrue\u001b[0m\u001b[0;34m)\u001b[0m\u001b[0;34m\u001b[0m\u001b[0;34m\u001b[0m\u001b[0m\n\u001b[0m",
      "\u001b[0;32m/usr/local/anaconda3/lib/python3.9/site-packages/mitosheet/mito_widget.py\u001b[0m in \u001b[0;36msheet\u001b[0;34m(view_df, *args)\u001b[0m\n\u001b[1;32m    273\u001b[0m     \u001b[0;32mtry\u001b[0m\u001b[0;34m:\u001b[0m\u001b[0;34m\u001b[0m\u001b[0;34m\u001b[0m\u001b[0m\n\u001b[1;32m    274\u001b[0m         \u001b[0;31m# We pass in the dataframes directly to the widget\u001b[0m\u001b[0;34m\u001b[0m\u001b[0;34m\u001b[0m\u001b[0m\n\u001b[0;32m--> 275\u001b[0;31m         \u001b[0mwidget\u001b[0m \u001b[0;34m=\u001b[0m \u001b[0mMitoWidget\u001b[0m\u001b[0;34m(\u001b[0m\u001b[0;34m*\u001b[0m\u001b[0margs\u001b[0m\u001b[0;34m)\u001b[0m\u001b[0;34m\u001b[0m\u001b[0;34m\u001b[0m\u001b[0m\n\u001b[0m\u001b[1;32m    276\u001b[0m \u001b[0;34m\u001b[0m\u001b[0m\n\u001b[1;32m    277\u001b[0m         \u001b[0;31m# Log they have personal data in the tool if they passed a dataframe\u001b[0m\u001b[0;34m\u001b[0m\u001b[0;34m\u001b[0m\u001b[0m\n",
      "\u001b[0;32m/usr/local/anaconda3/lib/python3.9/site-packages/mitosheet/mito_widget.py\u001b[0m in \u001b[0;36m__init__\u001b[0;34m(self, *args)\u001b[0m\n\u001b[1;32m     75\u001b[0m \u001b[0;34m\u001b[0m\u001b[0m\n\u001b[1;32m     76\u001b[0m         \u001b[0;31m# Set up starting shared state variables\u001b[0m\u001b[0;34m\u001b[0m\u001b[0;34m\u001b[0m\u001b[0m\n\u001b[0;32m---> 77\u001b[0;31m         \u001b[0mself\u001b[0m\u001b[0;34m.\u001b[0m\u001b[0mupdate_shared_state_variables\u001b[0m\u001b[0;34m(\u001b[0m\u001b[0;34m)\u001b[0m\u001b[0;34m\u001b[0m\u001b[0;34m\u001b[0m\u001b[0m\n\u001b[0m\u001b[1;32m     78\u001b[0m \u001b[0;34m\u001b[0m\u001b[0m\n\u001b[1;32m     79\u001b[0m     \u001b[0;34m@\u001b[0m\u001b[0mproperty\u001b[0m\u001b[0;34m\u001b[0m\u001b[0;34m\u001b[0m\u001b[0m\n",
      "\u001b[0;32m/usr/local/anaconda3/lib/python3.9/site-packages/mitosheet/mito_widget.py\u001b[0m in \u001b[0;36mupdate_shared_state_variables\u001b[0;34m(self)\u001b[0m\n\u001b[1;32m     87\u001b[0m         \u001b[0mbetween\u001b[0m \u001b[0mthe\u001b[0m \u001b[0mbackend\u001b[0m \u001b[0;32mand\u001b[0m \u001b[0mthe\u001b[0m \u001b[0mfrontend\u001b[0m \u001b[0mthrough\u001b[0m \u001b[0mtrailets\u001b[0m\u001b[0;34m.\u001b[0m\u001b[0;34m\u001b[0m\u001b[0;34m\u001b[0m\u001b[0m\n\u001b[1;32m     88\u001b[0m         \"\"\"\n\u001b[0;32m---> 89\u001b[0;31m         \u001b[0mself\u001b[0m\u001b[0;34m.\u001b[0m\u001b[0msheet_data_json\u001b[0m \u001b[0;34m=\u001b[0m \u001b[0mself\u001b[0m\u001b[0;34m.\u001b[0m\u001b[0msteps_manager\u001b[0m\u001b[0;34m.\u001b[0m\u001b[0msheet_data_json\u001b[0m\u001b[0;34m\u001b[0m\u001b[0;34m\u001b[0m\u001b[0m\n\u001b[0m\u001b[1;32m     90\u001b[0m         \u001b[0mself\u001b[0m\u001b[0;34m.\u001b[0m\u001b[0manalysis_data_json\u001b[0m \u001b[0;34m=\u001b[0m \u001b[0mself\u001b[0m\u001b[0;34m.\u001b[0m\u001b[0msteps_manager\u001b[0m\u001b[0;34m.\u001b[0m\u001b[0manalysis_data_json\u001b[0m\u001b[0;34m\u001b[0m\u001b[0;34m\u001b[0m\u001b[0m\n\u001b[1;32m     91\u001b[0m         self.user_profile_json = json.dumps({\n",
      "\u001b[0;32m/usr/local/anaconda3/lib/python3.9/site-packages/mitosheet/steps_manager.py\u001b[0m in \u001b[0;36msheet_data_json\u001b[0;34m(self)\u001b[0m\n\u001b[1;32m    255\u001b[0m         )\n\u001b[1;32m    256\u001b[0m \u001b[0;34m\u001b[0m\u001b[0m\n\u001b[0;32m--> 257\u001b[0;31m         array = dfs_to_array_for_json(\n\u001b[0m\u001b[1;32m    258\u001b[0m             \u001b[0mmodified_sheet_indexes\u001b[0m\u001b[0;34m,\u001b[0m\u001b[0;34m\u001b[0m\u001b[0;34m\u001b[0m\u001b[0m\n\u001b[1;32m    259\u001b[0m             \u001b[0mself\u001b[0m\u001b[0;34m.\u001b[0m\u001b[0msaved_sheet_data\u001b[0m\u001b[0;34m,\u001b[0m\u001b[0;34m\u001b[0m\u001b[0;34m\u001b[0m\u001b[0m\n",
      "\u001b[0;32m/usr/local/anaconda3/lib/python3.9/site-packages/mitosheet/utils.py\u001b[0m in \u001b[0;36mdfs_to_array_for_json\u001b[0;34m(modified_sheet_indexes, previous_array, dfs, df_names, df_sources, column_spreadsheet_code_array, column_filters_array, column_ids, column_format_types)\u001b[0m\n\u001b[1;32m     98\u001b[0m         \u001b[0;32mif\u001b[0m \u001b[0msheet_index\u001b[0m \u001b[0;32min\u001b[0m \u001b[0mmodified_sheet_indexes\u001b[0m\u001b[0;34m:\u001b[0m\u001b[0;34m\u001b[0m\u001b[0;34m\u001b[0m\u001b[0m\n\u001b[1;32m     99\u001b[0m             new_array.append(\n\u001b[0;32m--> 100\u001b[0;31m                 df_to_json_dumpsable(\n\u001b[0m\u001b[1;32m    101\u001b[0m                     \u001b[0mdf\u001b[0m\u001b[0;34m,\u001b[0m\u001b[0;34m\u001b[0m\u001b[0;34m\u001b[0m\u001b[0m\n\u001b[1;32m    102\u001b[0m                     \u001b[0mdf_names\u001b[0m\u001b[0;34m[\u001b[0m\u001b[0msheet_index\u001b[0m\u001b[0;34m]\u001b[0m\u001b[0;34m,\u001b[0m\u001b[0;34m\u001b[0m\u001b[0;34m\u001b[0m\u001b[0m\n",
      "\u001b[0;32m/usr/local/anaconda3/lib/python3.9/site-packages/mitosheet/utils.py\u001b[0m in \u001b[0;36mdf_to_json_dumpsable\u001b[0;34m(original_df, df_name, df_source, column_spreadsheet_code, column_filters, column_headers_to_column_ids, column_format_types, max_length)\u001b[0m\n\u001b[1;32m    159\u001b[0m         \u001b[0mdf\u001b[0m \u001b[0;34m=\u001b[0m \u001b[0moriginal_df\u001b[0m\u001b[0;34m.\u001b[0m\u001b[0mhead\u001b[0m\u001b[0;34m(\u001b[0m\u001b[0mn\u001b[0m\u001b[0;34m=\u001b[0m\u001b[0mmax_length\u001b[0m \u001b[0;32mif\u001b[0m \u001b[0mmax_length\u001b[0m \u001b[0;32melse\u001b[0m \u001b[0mnum_rows\u001b[0m\u001b[0;34m)\u001b[0m\u001b[0;34m.\u001b[0m\u001b[0mcopy\u001b[0m\u001b[0;34m(\u001b[0m\u001b[0mdeep\u001b[0m\u001b[0;34m=\u001b[0m\u001b[0;32mTrue\u001b[0m\u001b[0;34m)\u001b[0m\u001b[0;34m\u001b[0m\u001b[0;34m\u001b[0m\u001b[0m\n\u001b[1;32m    160\u001b[0m \u001b[0;34m\u001b[0m\u001b[0m\n\u001b[0;32m--> 161\u001b[0;31m     \u001b[0mfloat_columns\u001b[0m\u001b[0;34m,\u001b[0m \u001b[0mdate_columns\u001b[0m\u001b[0;34m,\u001b[0m \u001b[0mtimedelta_columns\u001b[0m \u001b[0;34m=\u001b[0m \u001b[0mget_float_dt_td_columns\u001b[0m\u001b[0;34m(\u001b[0m\u001b[0mdf\u001b[0m\u001b[0;34m)\u001b[0m\u001b[0;34m\u001b[0m\u001b[0;34m\u001b[0m\u001b[0m\n\u001b[0m\u001b[1;32m    162\u001b[0m     \u001b[0;31m# Second, we figure out which of the columns contain dates, and we\u001b[0m\u001b[0;34m\u001b[0m\u001b[0;34m\u001b[0m\u001b[0m\n\u001b[1;32m    163\u001b[0m     \u001b[0;31m# convert them to string columns (for formatting reasons).\u001b[0m\u001b[0;34m\u001b[0m\u001b[0;34m\u001b[0m\u001b[0m\n",
      "\u001b[0;32m/usr/local/anaconda3/lib/python3.9/site-packages/mitosheet/sheet_functions/types/utils.py\u001b[0m in \u001b[0;36mget_float_dt_td_columns\u001b[0;34m(df)\u001b[0m\n\u001b[1;32m     52\u001b[0m     \u001b[0mfloat_columns\u001b[0m\u001b[0;34m,\u001b[0m \u001b[0mdate_columns\u001b[0m\u001b[0;34m,\u001b[0m \u001b[0mtimedelta_columns\u001b[0m \u001b[0;34m=\u001b[0m \u001b[0;34m[\u001b[0m\u001b[0;34m]\u001b[0m\u001b[0;34m,\u001b[0m \u001b[0;34m[\u001b[0m\u001b[0;34m]\u001b[0m\u001b[0;34m,\u001b[0m \u001b[0;34m[\u001b[0m\u001b[0;34m]\u001b[0m\u001b[0;34m\u001b[0m\u001b[0;34m\u001b[0m\u001b[0m\n\u001b[1;32m     53\u001b[0m     \u001b[0;32mfor\u001b[0m \u001b[0mcolumn_header\u001b[0m \u001b[0;32min\u001b[0m \u001b[0mdf\u001b[0m\u001b[0;34m.\u001b[0m\u001b[0mcolumns\u001b[0m\u001b[0;34m:\u001b[0m\u001b[0;34m\u001b[0m\u001b[0;34m\u001b[0m\u001b[0m\n\u001b[0;32m---> 54\u001b[0;31m         \u001b[0mdtype\u001b[0m \u001b[0;34m=\u001b[0m \u001b[0mstr\u001b[0m\u001b[0;34m(\u001b[0m\u001b[0mdf\u001b[0m\u001b[0;34m[\u001b[0m\u001b[0mcolumn_header\u001b[0m\u001b[0;34m]\u001b[0m\u001b[0;34m.\u001b[0m\u001b[0mdtype\u001b[0m\u001b[0;34m)\u001b[0m\u001b[0;34m\u001b[0m\u001b[0;34m\u001b[0m\u001b[0m\n\u001b[0m\u001b[1;32m     55\u001b[0m         \u001b[0;31m# NOTE: these functions are called frequently, so we put them in\u001b[0m\u001b[0;34m\u001b[0m\u001b[0;34m\u001b[0m\u001b[0m\n\u001b[1;32m     56\u001b[0m         \u001b[0;31m# the order they are most likely to be true in, so we can short out\u001b[0m\u001b[0;34m\u001b[0m\u001b[0;34m\u001b[0m\u001b[0m\n",
      "\u001b[0;32m/usr/local/anaconda3/lib/python3.9/site-packages/lux/core/frame.py\u001b[0m in \u001b[0;36m__getattr__\u001b[0;34m(self, name)\u001b[0m\n\u001b[1;32m    175\u001b[0m     \u001b[0;31m#####################\u001b[0m\u001b[0;34m\u001b[0m\u001b[0;34m\u001b[0m\u001b[0m\n\u001b[1;32m    176\u001b[0m     \u001b[0;32mdef\u001b[0m \u001b[0m__getattr__\u001b[0m\u001b[0;34m(\u001b[0m\u001b[0mself\u001b[0m\u001b[0;34m,\u001b[0m \u001b[0mname\u001b[0m\u001b[0;34m)\u001b[0m\u001b[0;34m:\u001b[0m\u001b[0;34m\u001b[0m\u001b[0;34m\u001b[0m\u001b[0m\n\u001b[0;32m--> 177\u001b[0;31m         \u001b[0mret_value\u001b[0m \u001b[0;34m=\u001b[0m \u001b[0msuper\u001b[0m\u001b[0;34m(\u001b[0m\u001b[0mLuxDataFrame\u001b[0m\u001b[0;34m,\u001b[0m \u001b[0mself\u001b[0m\u001b[0;34m)\u001b[0m\u001b[0;34m.\u001b[0m\u001b[0m__getattr__\u001b[0m\u001b[0;34m(\u001b[0m\u001b[0mname\u001b[0m\u001b[0;34m)\u001b[0m\u001b[0;34m\u001b[0m\u001b[0;34m\u001b[0m\u001b[0m\n\u001b[0m\u001b[1;32m    178\u001b[0m         \u001b[0mself\u001b[0m\u001b[0;34m.\u001b[0m\u001b[0mexpire_metadata\u001b[0m\u001b[0;34m(\u001b[0m\u001b[0;34m)\u001b[0m\u001b[0;34m\u001b[0m\u001b[0;34m\u001b[0m\u001b[0m\n\u001b[1;32m    179\u001b[0m         \u001b[0mself\u001b[0m\u001b[0;34m.\u001b[0m\u001b[0mexpire_recs\u001b[0m\u001b[0;34m(\u001b[0m\u001b[0;34m)\u001b[0m\u001b[0;34m\u001b[0m\u001b[0;34m\u001b[0m\u001b[0m\n",
      "\u001b[0;32m/usr/local/anaconda3/lib/python3.9/site-packages/pandas/core/generic.py\u001b[0m in \u001b[0;36m__getattr__\u001b[0;34m(self, name)\u001b[0m\n\u001b[1;32m   5485\u001b[0m         ):\n\u001b[1;32m   5486\u001b[0m             \u001b[0;32mreturn\u001b[0m \u001b[0mself\u001b[0m\u001b[0;34m[\u001b[0m\u001b[0mname\u001b[0m\u001b[0;34m]\u001b[0m\u001b[0;34m\u001b[0m\u001b[0;34m\u001b[0m\u001b[0m\n\u001b[0;32m-> 5487\u001b[0;31m         \u001b[0;32mreturn\u001b[0m \u001b[0mobject\u001b[0m\u001b[0;34m.\u001b[0m\u001b[0m__getattribute__\u001b[0m\u001b[0;34m(\u001b[0m\u001b[0mself\u001b[0m\u001b[0;34m,\u001b[0m \u001b[0mname\u001b[0m\u001b[0;34m)\u001b[0m\u001b[0;34m\u001b[0m\u001b[0;34m\u001b[0m\u001b[0m\n\u001b[0m\u001b[1;32m   5488\u001b[0m \u001b[0;34m\u001b[0m\u001b[0m\n\u001b[1;32m   5489\u001b[0m     \u001b[0;32mdef\u001b[0m \u001b[0m__setattr__\u001b[0m\u001b[0;34m(\u001b[0m\u001b[0mself\u001b[0m\u001b[0;34m,\u001b[0m \u001b[0mname\u001b[0m\u001b[0;34m:\u001b[0m \u001b[0mstr\u001b[0m\u001b[0;34m,\u001b[0m \u001b[0mvalue\u001b[0m\u001b[0;34m)\u001b[0m \u001b[0;34m->\u001b[0m \u001b[0;32mNone\u001b[0m\u001b[0;34m:\u001b[0m\u001b[0;34m\u001b[0m\u001b[0;34m\u001b[0m\u001b[0m\n",
      "\u001b[0;31mAttributeError\u001b[0m: 'LuxDataFrame' object has no attribute 'dtype'"
     ]
    }
   ],
   "source": [
    "import mitosheet\n",
    "mitosheet.sheet(df, view_df=True)"
   ]
  },
  {
   "cell_type": "code",
   "execution_count": null,
   "id": "3552111b-688f-4b03-8084-649f6e154ecc",
   "metadata": {},
   "outputs": [],
   "source": [
    "def plot_categorical_and_continuous_vars(categorical_var, continuous_var, df):\n",
    "    \"\"\"\n",
    "    Accepts a string name of a categorical variable, \n",
    "    a string name from a continuous variable and their dataframe\n",
    "    then it displays 4 different plots.\n",
    "    \"\"\"\n",
    "   # fig, axes = plt.subplots(2, 2, sharex=False, figsize=(10, 12))\n",
    "    \n",
    "    #plt.subplot(131)\n",
    "    plt.suptitle(f'{continuous_var} by {categorical_var}', fontsize=18)\n",
    "    \n",
    "    sns.lineplot(x=categorical_var, y=continuous_var, data=df)\n",
    "    plt.xlabel(categorical_var, fontsize=12)\n",
    "    plt.ylabel(continuous_var, fontsize=12)\n",
    "    \n",
    "   # plt.subplot(132)\n",
    "    sns.catplot(x=categorical_var, y=continuous_var, data=df, kind='box', palette='deep')\n",
    "    plt.xlabel(categorical_var, fontsize=12)\n",
    "    plt.ylabel(continuous_var, fontsize=12)\n",
    "    \n",
    "   # plt.subplot(133)\n",
    "    sns.catplot(x=categorical_var, y=continuous_var, data=df, kind=\"swarm\", palette='muted')\n",
    "    plt.xlabel(categorical_var, fontsize=12)\n",
    "    plt.ylabel(continuous_var, fontsize=12)\n",
    "    \n",
    "   # plt.subplot(134)\n",
    "    sns.catplot(x=categorical_var, y=continuous_var, data=df, kind=\"bar\", palette='dark')\n",
    "    plt.xlabel(categorical_var, fontsize=12)\n",
    "    plt.ylabel(continuous_var, fontsize=12)\n"
   ]
  },
  {
   "cell_type": "code",
   "execution_count": null,
   "id": "3b302739-38e7-4257-b422-b4878e7a2a27",
   "metadata": {},
   "outputs": [],
   "source": []
  }
 ],
 "metadata": {
  "kernelspec": {
   "display_name": "Python 3 (ipykernel)",
   "language": "python",
   "name": "python3"
  },
  "language_info": {
   "codemirror_mode": {
    "name": "ipython",
    "version": 3
   },
   "file_extension": ".py",
   "mimetype": "text/x-python",
   "name": "python",
   "nbconvert_exporter": "python",
   "pygments_lexer": "ipython3",
   "version": "3.9.7"
  }
 },
 "nbformat": 4,
 "nbformat_minor": 5
}
